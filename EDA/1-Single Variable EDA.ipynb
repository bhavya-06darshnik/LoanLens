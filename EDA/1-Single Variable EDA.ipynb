{
 "cells": [
  {
   "cell_type": "code",
   "id": "282f3c68",
   "metadata": {
    "ExecuteTime": {
     "end_time": "2025-04-11T04:49:15.864349Z",
     "start_time": "2025-04-11T04:49:13.604797Z"
    }
   },
   "source": [
    "#basic libraries\n",
    "import numpy as np\n",
    "import pandas as pd\n",
    "import re\n",
    "\n",
    "#plotting libraries\n",
    "import matplotlib.pyplot as plt\n",
    "import seaborn as sns"
   ],
   "outputs": [],
   "execution_count": 2
  },
  {
   "cell_type": "markdown",
   "id": "0592a24e",
   "metadata": {},
   "source": [
    "# Initial look of the data"
   ]
  },
  {
   "cell_type": "code",
   "id": "cad3cdfb",
   "metadata": {
    "ExecuteTime": {
     "end_time": "2025-04-11T04:49:16.591765Z",
     "start_time": "2025-04-11T04:49:15.883168Z"
    }
   },
   "source": [
    "df = pd.read_csv('D:\\LoanLens\\data\\LoansTrainingSetV2.csv')"
   ],
   "outputs": [
    {
     "name": "stderr",
     "output_type": "stream",
     "text": [
      "C:\\Users\\psing\\AppData\\Local\\Temp\\ipykernel_2308\\1364107137.py:1: DtypeWarning: Columns (10,16) have mixed types. Specify dtype option on import or set low_memory=False.\n",
      "  df = pd.read_csv('D:\\LoanLens\\data\\LoansTrainingSetV2.csv')\n"
     ]
    }
   ],
   "execution_count": 3
  },
  {
   "cell_type": "code",
   "id": "d9659f61",
   "metadata": {
    "ExecuteTime": {
     "end_time": "2025-04-11T04:49:16.781125Z",
     "start_time": "2025-04-11T04:49:16.724848Z"
    }
   },
   "source": [
    "df.head()"
   ],
   "outputs": [
    {
     "data": {
      "text/plain": [
       "                                Loan ID                           Customer ID  \\\n",
       "0  6cf51492-02a2-423e-b93d-676f05b9ad53  7c202b37-2add-44e8-9aea-d5b119aea935   \n",
       "1  552e7ade-4292-4354-9ff9-c48031697d72  e7217b0a-07ac-47dd-b379-577b5a35b7c6   \n",
       "2  9b5e32b3-8d76-4801-afc8-d729d5a2e6b9  0a62fc41-16c8-40b5-92ff-9e4b763ce714   \n",
       "3  5419b7c7-ac11-4be2-a8a7-b131fb6d6dbe  30f36c59-5182-4482-8bbb-5b736849ae43   \n",
       "4  1450910f-9495-4fc9-afaf-9bdf4b9821df  70c26012-bba5-42c0-8dcb-75295ada31bb   \n",
       "\n",
       "    Loan Status  Current Loan Amount        Term  Credit Score  \\\n",
       "0  Loan Refused                12232  Short Term        7280.0   \n",
       "1  Loan Refused                25014   Long Term        7330.0   \n",
       "2  Loan Refused                16117  Short Term        7240.0   \n",
       "3  Loan Refused                11716  Short Term        7400.0   \n",
       "4  Loan Refused                 9789   Long Term        6860.0   \n",
       "\n",
       "  Years in current job Home Ownership  Annual Income             Purpose  \\\n",
       "0             < 1 year           Rent        46643.0  Debt Consolidation   \n",
       "1            10+ years  Home Mortgage        81099.0  Debt Consolidation   \n",
       "2              9 years  Home Mortgage        60438.0   Home Improvements   \n",
       "3              3 years           Rent        34171.0  Debt Consolidation   \n",
       "4            10+ years  Home Mortgage        47003.0   Home Improvements   \n",
       "\n",
       "  Monthly Debt  Years of Credit History  Months since last delinquent  \\\n",
       "0       777.39                     18.0                          10.0   \n",
       "1       892.09                     26.7                           NaN   \n",
       "2      1244.02                     16.7                          32.0   \n",
       "3       990.94                     10.0                           NaN   \n",
       "4       503.71                     16.7                          25.0   \n",
       "\n",
       "   Number of Open Accounts  Number of Credit Problems  Current Credit Balance  \\\n",
       "0                       12                          0                    6762   \n",
       "1                       14                          0                   35706   \n",
       "2                       11                          1                   11275   \n",
       "3                       21                          0                    7009   \n",
       "4                       13                          1                   16913   \n",
       "\n",
       "  Maximum Open Credit  Bankruptcies  Tax Liens  \n",
       "0                7946           0.0        0.0  \n",
       "1               77961           0.0        0.0  \n",
       "2               14815           1.0        0.0  \n",
       "3               43533           0.0        0.0  \n",
       "4               19553           1.0        0.0  "
      ],
      "text/html": [
       "<div>\n",
       "<style scoped>\n",
       "    .dataframe tbody tr th:only-of-type {\n",
       "        vertical-align: middle;\n",
       "    }\n",
       "\n",
       "    .dataframe tbody tr th {\n",
       "        vertical-align: top;\n",
       "    }\n",
       "\n",
       "    .dataframe thead th {\n",
       "        text-align: right;\n",
       "    }\n",
       "</style>\n",
       "<table border=\"1\" class=\"dataframe\">\n",
       "  <thead>\n",
       "    <tr style=\"text-align: right;\">\n",
       "      <th></th>\n",
       "      <th>Loan ID</th>\n",
       "      <th>Customer ID</th>\n",
       "      <th>Loan Status</th>\n",
       "      <th>Current Loan Amount</th>\n",
       "      <th>Term</th>\n",
       "      <th>Credit Score</th>\n",
       "      <th>Years in current job</th>\n",
       "      <th>Home Ownership</th>\n",
       "      <th>Annual Income</th>\n",
       "      <th>Purpose</th>\n",
       "      <th>Monthly Debt</th>\n",
       "      <th>Years of Credit History</th>\n",
       "      <th>Months since last delinquent</th>\n",
       "      <th>Number of Open Accounts</th>\n",
       "      <th>Number of Credit Problems</th>\n",
       "      <th>Current Credit Balance</th>\n",
       "      <th>Maximum Open Credit</th>\n",
       "      <th>Bankruptcies</th>\n",
       "      <th>Tax Liens</th>\n",
       "    </tr>\n",
       "  </thead>\n",
       "  <tbody>\n",
       "    <tr>\n",
       "      <th>0</th>\n",
       "      <td>6cf51492-02a2-423e-b93d-676f05b9ad53</td>\n",
       "      <td>7c202b37-2add-44e8-9aea-d5b119aea935</td>\n",
       "      <td>Loan Refused</td>\n",
       "      <td>12232</td>\n",
       "      <td>Short Term</td>\n",
       "      <td>7280.0</td>\n",
       "      <td>&lt; 1 year</td>\n",
       "      <td>Rent</td>\n",
       "      <td>46643.0</td>\n",
       "      <td>Debt Consolidation</td>\n",
       "      <td>777.39</td>\n",
       "      <td>18.0</td>\n",
       "      <td>10.0</td>\n",
       "      <td>12</td>\n",
       "      <td>0</td>\n",
       "      <td>6762</td>\n",
       "      <td>7946</td>\n",
       "      <td>0.0</td>\n",
       "      <td>0.0</td>\n",
       "    </tr>\n",
       "    <tr>\n",
       "      <th>1</th>\n",
       "      <td>552e7ade-4292-4354-9ff9-c48031697d72</td>\n",
       "      <td>e7217b0a-07ac-47dd-b379-577b5a35b7c6</td>\n",
       "      <td>Loan Refused</td>\n",
       "      <td>25014</td>\n",
       "      <td>Long Term</td>\n",
       "      <td>7330.0</td>\n",
       "      <td>10+ years</td>\n",
       "      <td>Home Mortgage</td>\n",
       "      <td>81099.0</td>\n",
       "      <td>Debt Consolidation</td>\n",
       "      <td>892.09</td>\n",
       "      <td>26.7</td>\n",
       "      <td>NaN</td>\n",
       "      <td>14</td>\n",
       "      <td>0</td>\n",
       "      <td>35706</td>\n",
       "      <td>77961</td>\n",
       "      <td>0.0</td>\n",
       "      <td>0.0</td>\n",
       "    </tr>\n",
       "    <tr>\n",
       "      <th>2</th>\n",
       "      <td>9b5e32b3-8d76-4801-afc8-d729d5a2e6b9</td>\n",
       "      <td>0a62fc41-16c8-40b5-92ff-9e4b763ce714</td>\n",
       "      <td>Loan Refused</td>\n",
       "      <td>16117</td>\n",
       "      <td>Short Term</td>\n",
       "      <td>7240.0</td>\n",
       "      <td>9 years</td>\n",
       "      <td>Home Mortgage</td>\n",
       "      <td>60438.0</td>\n",
       "      <td>Home Improvements</td>\n",
       "      <td>1244.02</td>\n",
       "      <td>16.7</td>\n",
       "      <td>32.0</td>\n",
       "      <td>11</td>\n",
       "      <td>1</td>\n",
       "      <td>11275</td>\n",
       "      <td>14815</td>\n",
       "      <td>1.0</td>\n",
       "      <td>0.0</td>\n",
       "    </tr>\n",
       "    <tr>\n",
       "      <th>3</th>\n",
       "      <td>5419b7c7-ac11-4be2-a8a7-b131fb6d6dbe</td>\n",
       "      <td>30f36c59-5182-4482-8bbb-5b736849ae43</td>\n",
       "      <td>Loan Refused</td>\n",
       "      <td>11716</td>\n",
       "      <td>Short Term</td>\n",
       "      <td>7400.0</td>\n",
       "      <td>3 years</td>\n",
       "      <td>Rent</td>\n",
       "      <td>34171.0</td>\n",
       "      <td>Debt Consolidation</td>\n",
       "      <td>990.94</td>\n",
       "      <td>10.0</td>\n",
       "      <td>NaN</td>\n",
       "      <td>21</td>\n",
       "      <td>0</td>\n",
       "      <td>7009</td>\n",
       "      <td>43533</td>\n",
       "      <td>0.0</td>\n",
       "      <td>0.0</td>\n",
       "    </tr>\n",
       "    <tr>\n",
       "      <th>4</th>\n",
       "      <td>1450910f-9495-4fc9-afaf-9bdf4b9821df</td>\n",
       "      <td>70c26012-bba5-42c0-8dcb-75295ada31bb</td>\n",
       "      <td>Loan Refused</td>\n",
       "      <td>9789</td>\n",
       "      <td>Long Term</td>\n",
       "      <td>6860.0</td>\n",
       "      <td>10+ years</td>\n",
       "      <td>Home Mortgage</td>\n",
       "      <td>47003.0</td>\n",
       "      <td>Home Improvements</td>\n",
       "      <td>503.71</td>\n",
       "      <td>16.7</td>\n",
       "      <td>25.0</td>\n",
       "      <td>13</td>\n",
       "      <td>1</td>\n",
       "      <td>16913</td>\n",
       "      <td>19553</td>\n",
       "      <td>1.0</td>\n",
       "      <td>0.0</td>\n",
       "    </tr>\n",
       "  </tbody>\n",
       "</table>\n",
       "</div>"
      ]
     },
     "execution_count": 4,
     "metadata": {},
     "output_type": "execute_result"
    }
   ],
   "execution_count": 4
  },
  {
   "cell_type": "code",
   "id": "e6269e6a",
   "metadata": {
    "ExecuteTime": {
     "end_time": "2025-04-11T04:49:16.966148Z",
     "start_time": "2025-04-11T04:49:16.939858Z"
    }
   },
   "source": [
    "df.shape"
   ],
   "outputs": [
    {
     "data": {
      "text/plain": [
       "(111105, 19)"
      ]
     },
     "execution_count": 5,
     "metadata": {},
     "output_type": "execute_result"
    }
   ],
   "execution_count": 5
  },
  {
   "cell_type": "code",
   "id": "f893e79b",
   "metadata": {
    "ExecuteTime": {
     "end_time": "2025-04-11T04:49:17.217656Z",
     "start_time": "2025-04-11T04:49:17.142829Z"
    }
   },
   "source": [
    "df.info()"
   ],
   "outputs": [
    {
     "name": "stdout",
     "output_type": "stream",
     "text": [
      "<class 'pandas.core.frame.DataFrame'>\n",
      "RangeIndex: 111105 entries, 0 to 111104\n",
      "Data columns (total 19 columns):\n",
      " #   Column                        Non-Null Count   Dtype  \n",
      "---  ------                        --------------   -----  \n",
      " 0   Loan ID                       111105 non-null  object \n",
      " 1   Customer ID                   111105 non-null  object \n",
      " 2   Loan Status                   111105 non-null  object \n",
      " 3   Current Loan Amount           111105 non-null  int64  \n",
      " 4   Term                          111105 non-null  object \n",
      " 5   Credit Score                  89767 non-null   float64\n",
      " 6   Years in current job          106412 non-null  object \n",
      " 7   Home Ownership                111105 non-null  object \n",
      " 8   Annual Income                 89767 non-null   float64\n",
      " 9   Purpose                       111105 non-null  object \n",
      " 10  Monthly Debt                  111105 non-null  object \n",
      " 11  Years of Credit History       111105 non-null  float64\n",
      " 12  Months since last delinquent  52102 non-null   float64\n",
      " 13  Number of Open Accounts       111105 non-null  int64  \n",
      " 14  Number of Credit Problems     111105 non-null  int64  \n",
      " 15  Current Credit Balance        111105 non-null  int64  \n",
      " 16  Maximum Open Credit           111105 non-null  object \n",
      " 17  Bankruptcies                  110877 non-null  float64\n",
      " 18  Tax Liens                     111094 non-null  float64\n",
      "dtypes: float64(6), int64(4), object(9)\n",
      "memory usage: 16.1+ MB\n"
     ]
    }
   ],
   "execution_count": 6
  },
  {
   "cell_type": "markdown",
   "id": "ce344b78",
   "metadata": {},
   "source": [
    "The datatypes seems fine. However, I need to inspect Years in current job, Monthly Debt, and Maximum Open Credit column. From my point of view, they shouldn't be object.\n",
    "\n",
    "# Single Variable EDA\n",
    "Before doing anything else, I will examine each variable using barcharts and histograms. I might dig deeper if there are extreme weird values."
   ]
  },
  {
   "cell_type": "code",
   "id": "aaafa4ee",
   "metadata": {
    "ExecuteTime": {
     "end_time": "2025-04-11T04:49:17.735031Z",
     "start_time": "2025-04-11T04:49:17.612898Z"
    }
   },
   "source": [
    "df.describe()"
   ],
   "outputs": [
    {
     "data": {
      "text/plain": [
       "       Current Loan Amount  Credit Score  Annual Income  \\\n",
       "count         1.111050e+05  89767.000000   8.976700e+04   \n",
       "mean          1.147739e+07   1075.662036   7.248528e+04   \n",
       "std           3.185533e+07   1473.879929   5.593131e+04   \n",
       "min           4.910000e+02    585.000000   4.033000e+03   \n",
       "25%           8.162000e+03    705.000000   4.468700e+04   \n",
       "50%           1.418300e+04    724.000000   6.175200e+04   \n",
       "75%           2.382200e+04    741.000000   8.688700e+04   \n",
       "max           1.000000e+08   7510.000000   8.713547e+06   \n",
       "\n",
       "       Years of Credit History  Months since last delinquent  \\\n",
       "count            111105.000000                   52102.00000   \n",
       "mean                 18.201012                      34.90223   \n",
       "std                   7.014530                      21.97033   \n",
       "min                   3.600000                       0.00000   \n",
       "25%                  13.500000                      16.00000   \n",
       "50%                  16.900000                      32.00000   \n",
       "75%                  21.700000                      51.00000   \n",
       "max                  70.500000                     176.00000   \n",
       "\n",
       "       Number of Open Accounts  Number of Credit Problems  \\\n",
       "count            111105.000000              111105.000000   \n",
       "mean                 11.125044                   0.168021   \n",
       "std                   5.010288                   0.484210   \n",
       "min                   0.000000                   0.000000   \n",
       "25%                   8.000000                   0.000000   \n",
       "50%                  10.000000                   0.000000   \n",
       "75%                  14.000000                   0.000000   \n",
       "max                  76.000000                  15.000000   \n",
       "\n",
       "       Current Credit Balance   Bankruptcies      Tax Liens  \n",
       "count            1.111050e+05  110877.000000  111094.000000  \n",
       "mean             1.548308e+04       0.117662       0.029354  \n",
       "std              1.982133e+04       0.351423       0.260577  \n",
       "min              0.000000e+00       0.000000       0.000000  \n",
       "25%              5.905000e+03       0.000000       0.000000  \n",
       "50%              1.102700e+04       0.000000       0.000000  \n",
       "75%              1.933800e+04       0.000000       0.000000  \n",
       "max              1.730472e+06       7.000000      15.000000  "
      ],
      "text/html": [
       "<div>\n",
       "<style scoped>\n",
       "    .dataframe tbody tr th:only-of-type {\n",
       "        vertical-align: middle;\n",
       "    }\n",
       "\n",
       "    .dataframe tbody tr th {\n",
       "        vertical-align: top;\n",
       "    }\n",
       "\n",
       "    .dataframe thead th {\n",
       "        text-align: right;\n",
       "    }\n",
       "</style>\n",
       "<table border=\"1\" class=\"dataframe\">\n",
       "  <thead>\n",
       "    <tr style=\"text-align: right;\">\n",
       "      <th></th>\n",
       "      <th>Current Loan Amount</th>\n",
       "      <th>Credit Score</th>\n",
       "      <th>Annual Income</th>\n",
       "      <th>Years of Credit History</th>\n",
       "      <th>Months since last delinquent</th>\n",
       "      <th>Number of Open Accounts</th>\n",
       "      <th>Number of Credit Problems</th>\n",
       "      <th>Current Credit Balance</th>\n",
       "      <th>Bankruptcies</th>\n",
       "      <th>Tax Liens</th>\n",
       "    </tr>\n",
       "  </thead>\n",
       "  <tbody>\n",
       "    <tr>\n",
       "      <th>count</th>\n",
       "      <td>1.111050e+05</td>\n",
       "      <td>89767.000000</td>\n",
       "      <td>8.976700e+04</td>\n",
       "      <td>111105.000000</td>\n",
       "      <td>52102.00000</td>\n",
       "      <td>111105.000000</td>\n",
       "      <td>111105.000000</td>\n",
       "      <td>1.111050e+05</td>\n",
       "      <td>110877.000000</td>\n",
       "      <td>111094.000000</td>\n",
       "    </tr>\n",
       "    <tr>\n",
       "      <th>mean</th>\n",
       "      <td>1.147739e+07</td>\n",
       "      <td>1075.662036</td>\n",
       "      <td>7.248528e+04</td>\n",
       "      <td>18.201012</td>\n",
       "      <td>34.90223</td>\n",
       "      <td>11.125044</td>\n",
       "      <td>0.168021</td>\n",
       "      <td>1.548308e+04</td>\n",
       "      <td>0.117662</td>\n",
       "      <td>0.029354</td>\n",
       "    </tr>\n",
       "    <tr>\n",
       "      <th>std</th>\n",
       "      <td>3.185533e+07</td>\n",
       "      <td>1473.879929</td>\n",
       "      <td>5.593131e+04</td>\n",
       "      <td>7.014530</td>\n",
       "      <td>21.97033</td>\n",
       "      <td>5.010288</td>\n",
       "      <td>0.484210</td>\n",
       "      <td>1.982133e+04</td>\n",
       "      <td>0.351423</td>\n",
       "      <td>0.260577</td>\n",
       "    </tr>\n",
       "    <tr>\n",
       "      <th>min</th>\n",
       "      <td>4.910000e+02</td>\n",
       "      <td>585.000000</td>\n",
       "      <td>4.033000e+03</td>\n",
       "      <td>3.600000</td>\n",
       "      <td>0.00000</td>\n",
       "      <td>0.000000</td>\n",
       "      <td>0.000000</td>\n",
       "      <td>0.000000e+00</td>\n",
       "      <td>0.000000</td>\n",
       "      <td>0.000000</td>\n",
       "    </tr>\n",
       "    <tr>\n",
       "      <th>25%</th>\n",
       "      <td>8.162000e+03</td>\n",
       "      <td>705.000000</td>\n",
       "      <td>4.468700e+04</td>\n",
       "      <td>13.500000</td>\n",
       "      <td>16.00000</td>\n",
       "      <td>8.000000</td>\n",
       "      <td>0.000000</td>\n",
       "      <td>5.905000e+03</td>\n",
       "      <td>0.000000</td>\n",
       "      <td>0.000000</td>\n",
       "    </tr>\n",
       "    <tr>\n",
       "      <th>50%</th>\n",
       "      <td>1.418300e+04</td>\n",
       "      <td>724.000000</td>\n",
       "      <td>6.175200e+04</td>\n",
       "      <td>16.900000</td>\n",
       "      <td>32.00000</td>\n",
       "      <td>10.000000</td>\n",
       "      <td>0.000000</td>\n",
       "      <td>1.102700e+04</td>\n",
       "      <td>0.000000</td>\n",
       "      <td>0.000000</td>\n",
       "    </tr>\n",
       "    <tr>\n",
       "      <th>75%</th>\n",
       "      <td>2.382200e+04</td>\n",
       "      <td>741.000000</td>\n",
       "      <td>8.688700e+04</td>\n",
       "      <td>21.700000</td>\n",
       "      <td>51.00000</td>\n",
       "      <td>14.000000</td>\n",
       "      <td>0.000000</td>\n",
       "      <td>1.933800e+04</td>\n",
       "      <td>0.000000</td>\n",
       "      <td>0.000000</td>\n",
       "    </tr>\n",
       "    <tr>\n",
       "      <th>max</th>\n",
       "      <td>1.000000e+08</td>\n",
       "      <td>7510.000000</td>\n",
       "      <td>8.713547e+06</td>\n",
       "      <td>70.500000</td>\n",
       "      <td>176.00000</td>\n",
       "      <td>76.000000</td>\n",
       "      <td>15.000000</td>\n",
       "      <td>1.730472e+06</td>\n",
       "      <td>7.000000</td>\n",
       "      <td>15.000000</td>\n",
       "    </tr>\n",
       "  </tbody>\n",
       "</table>\n",
       "</div>"
      ]
     },
     "execution_count": 7,
     "metadata": {},
     "output_type": "execute_result"
    }
   ],
   "execution_count": 7
  },
  {
   "cell_type": "code",
   "id": "1e120473",
   "metadata": {
    "ExecuteTime": {
     "end_time": "2025-04-11T04:49:18.492344Z",
     "start_time": "2025-04-11T04:49:18.417217Z"
    }
   },
   "source": [
    "df.isnull().sum()"
   ],
   "outputs": [
    {
     "data": {
      "text/plain": [
       "Loan ID                             0\n",
       "Customer ID                         0\n",
       "Loan Status                         0\n",
       "Current Loan Amount                 0\n",
       "Term                                0\n",
       "Credit Score                    21338\n",
       "Years in current job             4693\n",
       "Home Ownership                      0\n",
       "Annual Income                   21338\n",
       "Purpose                             0\n",
       "Monthly Debt                        0\n",
       "Years of Credit History             0\n",
       "Months since last delinquent    59003\n",
       "Number of Open Accounts             0\n",
       "Number of Credit Problems           0\n",
       "Current Credit Balance              0\n",
       "Maximum Open Credit                 0\n",
       "Bankruptcies                      228\n",
       "Tax Liens                          11\n",
       "dtype: int64"
      ]
     },
     "execution_count": 8,
     "metadata": {},
     "output_type": "execute_result"
    }
   ],
   "execution_count": 8
  },
  {
   "cell_type": "markdown",
   "id": "6b37bd3e",
   "metadata": {},
   "source": [
    "There are 6 columns with missing values. The column Months since last delinquent has the most missing values, and it might be problematic. It's followed by Credit Score and Annual Income. I need to see what the data looks like before deciding which strategy I should implement for data imputation."
   ]
  },
  {
   "cell_type": "code",
   "id": "2b38a13a",
   "metadata": {
    "ExecuteTime": {
     "end_time": "2025-04-11T04:49:18.899330Z",
     "start_time": "2025-04-11T04:49:18.877143Z"
    }
   },
   "source": [
    "def clean_columns(column_list):\n",
    "    all_cols = column_list\n",
    "    \n",
    "    modified_list = []\n",
    "\n",
    "    for item in all_cols:\n",
    "        item = str(item).lower()\n",
    "        modified_item = re.sub(r'[^a-zA-Z0-9]', '_', item)\n",
    "        modified_list.append(modified_item)\n",
    "    \n",
    "    final_list = []\n",
    "    \n",
    "    for i in modified_list:\n",
    "        cleaned_column_name = re.sub(r'_+', '_', i)\n",
    "        final_list.append(cleaned_column_name)\n",
    "    \n",
    "    final_list = [col.strip('_') for col in final_list]\n",
    "        \n",
    "    return final_list\n",
    "\n",
    "df.columns = clean_columns(df.columns.tolist())"
   ],
   "outputs": [],
   "execution_count": 9
  },
  {
   "cell_type": "code",
   "id": "16c2ddbd",
   "metadata": {
    "ExecuteTime": {
     "end_time": "2025-04-11T04:49:19.398828Z",
     "start_time": "2025-04-11T04:49:19.346674Z"
    }
   },
   "source": [
    "df.head()"
   ],
   "outputs": [
    {
     "data": {
      "text/plain": [
       "                                loan_id                           customer_id  \\\n",
       "0  6cf51492-02a2-423e-b93d-676f05b9ad53  7c202b37-2add-44e8-9aea-d5b119aea935   \n",
       "1  552e7ade-4292-4354-9ff9-c48031697d72  e7217b0a-07ac-47dd-b379-577b5a35b7c6   \n",
       "2  9b5e32b3-8d76-4801-afc8-d729d5a2e6b9  0a62fc41-16c8-40b5-92ff-9e4b763ce714   \n",
       "3  5419b7c7-ac11-4be2-a8a7-b131fb6d6dbe  30f36c59-5182-4482-8bbb-5b736849ae43   \n",
       "4  1450910f-9495-4fc9-afaf-9bdf4b9821df  70c26012-bba5-42c0-8dcb-75295ada31bb   \n",
       "\n",
       "    loan_status  current_loan_amount        term  credit_score  \\\n",
       "0  Loan Refused                12232  Short Term        7280.0   \n",
       "1  Loan Refused                25014   Long Term        7330.0   \n",
       "2  Loan Refused                16117  Short Term        7240.0   \n",
       "3  Loan Refused                11716  Short Term        7400.0   \n",
       "4  Loan Refused                 9789   Long Term        6860.0   \n",
       "\n",
       "  years_in_current_job home_ownership  annual_income             purpose  \\\n",
       "0             < 1 year           Rent        46643.0  Debt Consolidation   \n",
       "1            10+ years  Home Mortgage        81099.0  Debt Consolidation   \n",
       "2              9 years  Home Mortgage        60438.0   Home Improvements   \n",
       "3              3 years           Rent        34171.0  Debt Consolidation   \n",
       "4            10+ years  Home Mortgage        47003.0   Home Improvements   \n",
       "\n",
       "  monthly_debt  years_of_credit_history  months_since_last_delinquent  \\\n",
       "0       777.39                     18.0                          10.0   \n",
       "1       892.09                     26.7                           NaN   \n",
       "2      1244.02                     16.7                          32.0   \n",
       "3       990.94                     10.0                           NaN   \n",
       "4       503.71                     16.7                          25.0   \n",
       "\n",
       "   number_of_open_accounts  number_of_credit_problems  current_credit_balance  \\\n",
       "0                       12                          0                    6762   \n",
       "1                       14                          0                   35706   \n",
       "2                       11                          1                   11275   \n",
       "3                       21                          0                    7009   \n",
       "4                       13                          1                   16913   \n",
       "\n",
       "  maximum_open_credit  bankruptcies  tax_liens  \n",
       "0                7946           0.0        0.0  \n",
       "1               77961           0.0        0.0  \n",
       "2               14815           1.0        0.0  \n",
       "3               43533           0.0        0.0  \n",
       "4               19553           1.0        0.0  "
      ],
      "text/html": [
       "<div>\n",
       "<style scoped>\n",
       "    .dataframe tbody tr th:only-of-type {\n",
       "        vertical-align: middle;\n",
       "    }\n",
       "\n",
       "    .dataframe tbody tr th {\n",
       "        vertical-align: top;\n",
       "    }\n",
       "\n",
       "    .dataframe thead th {\n",
       "        text-align: right;\n",
       "    }\n",
       "</style>\n",
       "<table border=\"1\" class=\"dataframe\">\n",
       "  <thead>\n",
       "    <tr style=\"text-align: right;\">\n",
       "      <th></th>\n",
       "      <th>loan_id</th>\n",
       "      <th>customer_id</th>\n",
       "      <th>loan_status</th>\n",
       "      <th>current_loan_amount</th>\n",
       "      <th>term</th>\n",
       "      <th>credit_score</th>\n",
       "      <th>years_in_current_job</th>\n",
       "      <th>home_ownership</th>\n",
       "      <th>annual_income</th>\n",
       "      <th>purpose</th>\n",
       "      <th>monthly_debt</th>\n",
       "      <th>years_of_credit_history</th>\n",
       "      <th>months_since_last_delinquent</th>\n",
       "      <th>number_of_open_accounts</th>\n",
       "      <th>number_of_credit_problems</th>\n",
       "      <th>current_credit_balance</th>\n",
       "      <th>maximum_open_credit</th>\n",
       "      <th>bankruptcies</th>\n",
       "      <th>tax_liens</th>\n",
       "    </tr>\n",
       "  </thead>\n",
       "  <tbody>\n",
       "    <tr>\n",
       "      <th>0</th>\n",
       "      <td>6cf51492-02a2-423e-b93d-676f05b9ad53</td>\n",
       "      <td>7c202b37-2add-44e8-9aea-d5b119aea935</td>\n",
       "      <td>Loan Refused</td>\n",
       "      <td>12232</td>\n",
       "      <td>Short Term</td>\n",
       "      <td>7280.0</td>\n",
       "      <td>&lt; 1 year</td>\n",
       "      <td>Rent</td>\n",
       "      <td>46643.0</td>\n",
       "      <td>Debt Consolidation</td>\n",
       "      <td>777.39</td>\n",
       "      <td>18.0</td>\n",
       "      <td>10.0</td>\n",
       "      <td>12</td>\n",
       "      <td>0</td>\n",
       "      <td>6762</td>\n",
       "      <td>7946</td>\n",
       "      <td>0.0</td>\n",
       "      <td>0.0</td>\n",
       "    </tr>\n",
       "    <tr>\n",
       "      <th>1</th>\n",
       "      <td>552e7ade-4292-4354-9ff9-c48031697d72</td>\n",
       "      <td>e7217b0a-07ac-47dd-b379-577b5a35b7c6</td>\n",
       "      <td>Loan Refused</td>\n",
       "      <td>25014</td>\n",
       "      <td>Long Term</td>\n",
       "      <td>7330.0</td>\n",
       "      <td>10+ years</td>\n",
       "      <td>Home Mortgage</td>\n",
       "      <td>81099.0</td>\n",
       "      <td>Debt Consolidation</td>\n",
       "      <td>892.09</td>\n",
       "      <td>26.7</td>\n",
       "      <td>NaN</td>\n",
       "      <td>14</td>\n",
       "      <td>0</td>\n",
       "      <td>35706</td>\n",
       "      <td>77961</td>\n",
       "      <td>0.0</td>\n",
       "      <td>0.0</td>\n",
       "    </tr>\n",
       "    <tr>\n",
       "      <th>2</th>\n",
       "      <td>9b5e32b3-8d76-4801-afc8-d729d5a2e6b9</td>\n",
       "      <td>0a62fc41-16c8-40b5-92ff-9e4b763ce714</td>\n",
       "      <td>Loan Refused</td>\n",
       "      <td>16117</td>\n",
       "      <td>Short Term</td>\n",
       "      <td>7240.0</td>\n",
       "      <td>9 years</td>\n",
       "      <td>Home Mortgage</td>\n",
       "      <td>60438.0</td>\n",
       "      <td>Home Improvements</td>\n",
       "      <td>1244.02</td>\n",
       "      <td>16.7</td>\n",
       "      <td>32.0</td>\n",
       "      <td>11</td>\n",
       "      <td>1</td>\n",
       "      <td>11275</td>\n",
       "      <td>14815</td>\n",
       "      <td>1.0</td>\n",
       "      <td>0.0</td>\n",
       "    </tr>\n",
       "    <tr>\n",
       "      <th>3</th>\n",
       "      <td>5419b7c7-ac11-4be2-a8a7-b131fb6d6dbe</td>\n",
       "      <td>30f36c59-5182-4482-8bbb-5b736849ae43</td>\n",
       "      <td>Loan Refused</td>\n",
       "      <td>11716</td>\n",
       "      <td>Short Term</td>\n",
       "      <td>7400.0</td>\n",
       "      <td>3 years</td>\n",
       "      <td>Rent</td>\n",
       "      <td>34171.0</td>\n",
       "      <td>Debt Consolidation</td>\n",
       "      <td>990.94</td>\n",
       "      <td>10.0</td>\n",
       "      <td>NaN</td>\n",
       "      <td>21</td>\n",
       "      <td>0</td>\n",
       "      <td>7009</td>\n",
       "      <td>43533</td>\n",
       "      <td>0.0</td>\n",
       "      <td>0.0</td>\n",
       "    </tr>\n",
       "    <tr>\n",
       "      <th>4</th>\n",
       "      <td>1450910f-9495-4fc9-afaf-9bdf4b9821df</td>\n",
       "      <td>70c26012-bba5-42c0-8dcb-75295ada31bb</td>\n",
       "      <td>Loan Refused</td>\n",
       "      <td>9789</td>\n",
       "      <td>Long Term</td>\n",
       "      <td>6860.0</td>\n",
       "      <td>10+ years</td>\n",
       "      <td>Home Mortgage</td>\n",
       "      <td>47003.0</td>\n",
       "      <td>Home Improvements</td>\n",
       "      <td>503.71</td>\n",
       "      <td>16.7</td>\n",
       "      <td>25.0</td>\n",
       "      <td>13</td>\n",
       "      <td>1</td>\n",
       "      <td>16913</td>\n",
       "      <td>19553</td>\n",
       "      <td>1.0</td>\n",
       "      <td>0.0</td>\n",
       "    </tr>\n",
       "  </tbody>\n",
       "</table>\n",
       "</div>"
      ]
     },
     "execution_count": 10,
     "metadata": {},
     "output_type": "execute_result"
    }
   ],
   "execution_count": 10
  },
  {
   "cell_type": "code",
   "id": "a2386c97",
   "metadata": {
    "ExecuteTime": {
     "end_time": "2025-04-11T04:49:20.023542Z",
     "start_time": "2025-04-11T04:49:20.011053Z"
    }
   },
   "source": [
    "def create_bar_chart(df,col,rotation=0):\n",
    "    value_counts_series = df[col].value_counts()\n",
    "\n",
    "    # Create a bar chart using Seaborn\n",
    "    sns.barplot(x=value_counts_series.index, y=value_counts_series.values)\n",
    "\n",
    "    # Add labels and title\n",
    "    plt.xlabel(col.replace('_',' ').title())\n",
    "    plt.ylabel('Count')\n",
    "    plt.title('Distribution of ' + col.replace('_',' ').title())\n",
    "\n",
    "    plt.xticks(rotation=rotation)\n",
    "\n",
    "    # Show the plot\n",
    "    plt.show();"
   ],
   "outputs": [],
   "execution_count": 11
  },
  {
   "cell_type": "code",
   "id": "8f15efec",
   "metadata": {
    "ExecuteTime": {
     "end_time": "2025-04-11T04:49:20.463892Z",
     "start_time": "2025-04-11T04:49:20.452827Z"
    }
   },
   "source": [
    "def create_histogram(df,col):\n",
    "    plt.hist(df[col])\n",
    "    plt.title('Histogram of ' + col.replace('_',' ').title())\n",
    "    plt.show()"
   ],
   "outputs": [],
   "execution_count": 12
  },
  {
   "cell_type": "code",
   "id": "1282dc82",
   "metadata": {
    "ExecuteTime": {
     "end_time": "2025-04-11T04:49:20.794124Z",
     "start_time": "2025-04-11T04:49:20.768294Z"
    }
   },
   "source": [
    "df.loan_status.value_counts()"
   ],
   "outputs": [
    {
     "data": {
      "text/plain": [
       "loan_status\n",
       "Loan Given      85934\n",
       "Loan Refused    25171\n",
       "Name: count, dtype: int64"
      ]
     },
     "execution_count": 13,
     "metadata": {},
     "output_type": "execute_result"
    }
   ],
   "execution_count": 13
  },
  {
   "cell_type": "code",
   "id": "28d8a692",
   "metadata": {
    "ExecuteTime": {
     "end_time": "2025-04-11T04:49:21.592043Z",
     "start_time": "2025-04-11T04:49:21.179591Z"
    }
   },
   "source": [
    "create_bar_chart(df,'loan_status')"
   ],
   "outputs": [
    {
     "data": {
      "text/plain": [
       "<Figure size 640x480 with 1 Axes>"
      ],
      "image/png": "[encoded data removed]"
     },
     "metadata": {},
     "output_type": "display_data"
    }
   ],
   "execution_count": 14
  },
  {
   "cell_type": "markdown",
   "id": "cc5dd328",
   "metadata": {},
   "source": [
    "According to the bar chart, there is a class imbalance in the loan status column where there are significantly more loan given compared to loan refused.\n",
    "\n",
    "Next, I'll create a histogram of the current loan amount column to understand the data distribution."
   ]
  },
  {
   "cell_type": "code",
   "id": "7af54a1b",
   "metadata": {
    "ExecuteTime": {
     "end_time": "2025-04-11T04:49:22.530059Z",
     "start_time": "2025-04-11T04:49:21.986469Z"
    }
   },
   "source": [
    "create_histogram(df,'current_loan_amount')"
   ],
   "outputs": [
    {
     "data": {
      "text/plain": [
       "<Figure size 640x480 with 1 Axes>"
      ],
      "image/png": "[encoded data removed]"
     },
     "metadata": {},
     "output_type": "display_data"
    }
   ],
   "execution_count": 15
  },
  {
   "cell_type": "code",
   "id": "f14d5c4c",
   "metadata": {
    "ExecuteTime": {
     "end_time": "2025-04-11T04:49:22.779316Z",
     "start_time": "2025-04-11T04:49:22.721916Z"
    }
   },
   "source": [
    "df[df.current_loan_amount == df.current_loan_amount.max()].head()"
   ],
   "outputs": [
    {
     "data": {
      "text/plain": [
       "                                   loan_id  \\\n",
       "5042  bac918fa-35e0-40a2-af65-58b456a742e7   \n",
       "5043  bb983383-0aa0-4d13-9b7f-05f694672374   \n",
       "5044  0c7fcf5e-ec4a-46d5-8175-15c846df7c74   \n",
       "5045  878c4189-bd53-4836-a16d-203519034758   \n",
       "5046  193ac878-4d50-4be0-995b-20896ebc9ad8   \n",
       "\n",
       "                               customer_id loan_status  current_loan_amount  \\\n",
       "5042  c96da120-30d2-4acd-9740-e4d280f4bfcb  Loan Given             99999999   \n",
       "5043  d602647a-0820-4025-b93d-9f962f958acf  Loan Given             99999999   \n",
       "5044  a709e893-b6b6-49ed-b775-bdef1155c78d  Loan Given             99999999   \n",
       "5045  64fa8876-80fa-4a69-b16b-144a8ecfb14a  Loan Given             99999999   \n",
       "5046  02a4bc6d-db02-406b-9bf6-8e0dd42782eb  Loan Given             99999999   \n",
       "\n",
       "            term  credit_score years_in_current_job home_ownership  \\\n",
       "5042  Short Term         739.0              3 years  Home Mortgage   \n",
       "5043  Short Term         704.0              9 years           Rent   \n",
       "5044  Short Term         751.0              5 years           Rent   \n",
       "5045  Short Term         735.0                  NaN  Home Mortgage   \n",
       "5046  Short Term         745.0              3 years       Own Home   \n",
       "\n",
       "      annual_income             purpose monthly_debt  years_of_credit_history  \\\n",
       "5042        60012.0   Home Improvements      1295.26                     16.6   \n",
       "5043        54802.0  Debt Consolidation      1114.31                     16.9   \n",
       "5044        35693.0  Debt Consolidation       626.12                     11.0   \n",
       "5045        33884.0  Debt Consolidation       683.34                     18.9   \n",
       "5046       103343.0  Debt Consolidation      1300.41                     14.1   \n",
       "\n",
       "      months_since_last_delinquent  number_of_open_accounts  \\\n",
       "5042                          33.0                       16   \n",
       "5043                          30.0                       12   \n",
       "5044                           NaN                        7   \n",
       "5045                          10.0                       12   \n",
       "5046                           NaN                       14   \n",
       "\n",
       "      number_of_credit_problems  current_credit_balance maximum_open_credit  \\\n",
       "5042                          0                     427                8542   \n",
       "5043                          0                    4716                5822   \n",
       "5044                          0                     742                9166   \n",
       "5045                          0                   10835               18028   \n",
       "5046                          0                   22746               42835   \n",
       "\n",
       "      bankruptcies  tax_liens  \n",
       "5042           0.0        0.0  \n",
       "5043           0.0        0.0  \n",
       "5044           0.0        0.0  \n",
       "5045           0.0        0.0  \n",
       "5046           0.0        0.0  "
      ],
      "text/html": [
       "<div>\n",
       "<style scoped>\n",
       "    .dataframe tbody tr th:only-of-type {\n",
       "        vertical-align: middle;\n",
       "    }\n",
       "\n",
       "    .dataframe tbody tr th {\n",
       "        vertical-align: top;\n",
       "    }\n",
       "\n",
       "    .dataframe thead th {\n",
       "        text-align: right;\n",
       "    }\n",
       "</style>\n",
       "<table border=\"1\" class=\"dataframe\">\n",
       "  <thead>\n",
       "    <tr style=\"text-align: right;\">\n",
       "      <th></th>\n",
       "      <th>loan_id</th>\n",
       "      <th>customer_id</th>\n",
       "      <th>loan_status</th>\n",
       "      <th>current_loan_amount</th>\n",
       "      <th>term</th>\n",
       "      <th>credit_score</th>\n",
       "      <th>years_in_current_job</th>\n",
       "      <th>home_ownership</th>\n",
       "      <th>annual_income</th>\n",
       "      <th>purpose</th>\n",
       "      <th>monthly_debt</th>\n",
       "      <th>years_of_credit_history</th>\n",
       "      <th>months_since_last_delinquent</th>\n",
       "      <th>number_of_open_accounts</th>\n",
       "      <th>number_of_credit_problems</th>\n",
       "      <th>current_credit_balance</th>\n",
       "      <th>maximum_open_credit</th>\n",
       "      <th>bankruptcies</th>\n",
       "      <th>tax_liens</th>\n",
       "    </tr>\n",
       "  </thead>\n",
       "  <tbody>\n",
       "    <tr>\n",
       "      <th>5042</th>\n",
       "      <td>bac918fa-35e0-40a2-af65-58b456a742e7</td>\n",
       "      <td>c96da120-30d2-4acd-9740-e4d280f4bfcb</td>\n",
       "      <td>Loan Given</td>\n",
       "      <td>99999999</td>\n",
       "      <td>Short Term</td>\n",
       "      <td>739.0</td>\n",
       "      <td>3 years</td>\n",
       "      <td>Home Mortgage</td>\n",
       "      <td>60012.0</td>\n",
       "      <td>Home Improvements</td>\n",
       "      <td>1295.26</td>\n",
       "      <td>16.6</td>\n",
       "      <td>33.0</td>\n",
       "      <td>16</td>\n",
       "      <td>0</td>\n",
       "      <td>427</td>\n",
       "      <td>8542</td>\n",
       "      <td>0.0</td>\n",
       "      <td>0.0</td>\n",
       "    </tr>\n",
       "    <tr>\n",
       "      <th>5043</th>\n",
       "      <td>bb983383-0aa0-4d13-9b7f-05f694672374</td>\n",
       "      <td>d602647a-0820-4025-b93d-9f962f958acf</td>\n",
       "      <td>Loan Given</td>\n",
       "      <td>99999999</td>\n",
       "      <td>Short Term</td>\n",
       "      <td>704.0</td>\n",
       "      <td>9 years</td>\n",
       "      <td>Rent</td>\n",
       "      <td>54802.0</td>\n",
       "      <td>Debt Consolidation</td>\n",
       "      <td>1114.31</td>\n",
       "      <td>16.9</td>\n",
       "      <td>30.0</td>\n",
       "      <td>12</td>\n",
       "      <td>0</td>\n",
       "      <td>4716</td>\n",
       "      <td>5822</td>\n",
       "      <td>0.0</td>\n",
       "      <td>0.0</td>\n",
       "    </tr>\n",
       "    <tr>\n",
       "      <th>5044</th>\n",
       "      <td>0c7fcf5e-ec4a-46d5-8175-15c846df7c74</td>\n",
       "      <td>a709e893-b6b6-49ed-b775-bdef1155c78d</td>\n",
       "      <td>Loan Given</td>\n",
       "      <td>99999999</td>\n",
       "      <td>Short Term</td>\n",
       "      <td>751.0</td>\n",
       "      <td>5 years</td>\n",
       "      <td>Rent</td>\n",
       "      <td>35693.0</td>\n",
       "      <td>Debt Consolidation</td>\n",
       "      <td>626.12</td>\n",
       "      <td>11.0</td>\n",
       "      <td>NaN</td>\n",
       "      <td>7</td>\n",
       "      <td>0</td>\n",
       "      <td>742</td>\n",
       "      <td>9166</td>\n",
       "      <td>0.0</td>\n",
       "      <td>0.0</td>\n",
       "    </tr>\n",
       "    <tr>\n",
       "      <th>5045</th>\n",
       "      <td>878c4189-bd53-4836-a16d-203519034758</td>\n",
       "      <td>64fa8876-80fa-4a69-b16b-144a8ecfb14a</td>\n",
       "      <td>Loan Given</td>\n",
       "      <td>99999999</td>\n",
       "      <td>Short Term</td>\n",
       "      <td>735.0</td>\n",
       "      <td>NaN</td>\n",
       "      <td>Home Mortgage</td>\n",
       "      <td>33884.0</td>\n",
       "      <td>Debt Consolidation</td>\n",
       "      <td>683.34</td>\n",
       "      <td>18.9</td>\n",
       "      <td>10.0</td>\n",
       "      <td>12</td>\n",
       "      <td>0</td>\n",
       "      <td>10835</td>\n",
       "      <td>18028</td>\n",
       "      <td>0.0</td>\n",
       "      <td>0.0</td>\n",
       "    </tr>\n",
       "    <tr>\n",
       "      <th>5046</th>\n",
       "      <td>193ac878-4d50-4be0-995b-20896ebc9ad8</td>\n",
       "      <td>02a4bc6d-db02-406b-9bf6-8e0dd42782eb</td>\n",
       "      <td>Loan Given</td>\n",
       "      <td>99999999</td>\n",
       "      <td>Short Term</td>\n",
       "      <td>745.0</td>\n",
       "      <td>3 years</td>\n",
       "      <td>Own Home</td>\n",
       "      <td>103343.0</td>\n",
       "      <td>Debt Consolidation</td>\n",
       "      <td>1300.41</td>\n",
       "      <td>14.1</td>\n",
       "      <td>NaN</td>\n",
       "      <td>14</td>\n",
       "      <td>0</td>\n",
       "      <td>22746</td>\n",
       "      <td>42835</td>\n",
       "      <td>0.0</td>\n",
       "      <td>0.0</td>\n",
       "    </tr>\n",
       "  </tbody>\n",
       "</table>\n",
       "</div>"
      ]
     },
     "execution_count": 16,
     "metadata": {},
     "output_type": "execute_result"
    }
   ],
   "execution_count": 16
  },
  {
   "cell_type": "code",
   "id": "7e18bed8",
   "metadata": {
    "ExecuteTime": {
     "end_time": "2025-04-11T04:49:22.950903Z",
     "start_time": "2025-04-11T04:49:22.923371Z"
    }
   },
   "source": [
    "mean_extreme_values = df[df.current_loan_amount == df.current_loan_amount.max()].current_loan_amount.mean()\n",
    "print(f\"The average of the extreme values found in the dataframe is {mean_extreme_values}\")"
   ],
   "outputs": [
    {
     "name": "stdout",
     "output_type": "stream",
     "text": [
      "The average of the extreme values found in the dataframe is 99999999.0\n"
     ]
    }
   ],
   "execution_count": 17
  },
  {
   "cell_type": "markdown",
   "id": "f040bce1",
   "metadata": {},
   "source": [
    "The values off all the extreme values are 99999999.0. This indicates that there are errors in inputting the data. I will need to deal with this later.\n",
    "\n",
    "Next, I will create the bar chart of the loan term."
   ]
  },
  {
   "cell_type": "code",
   "id": "d521aa4c",
   "metadata": {
    "ExecuteTime": {
     "end_time": "2025-04-11T04:49:23.512690Z",
     "start_time": "2025-04-11T04:49:23.127455Z"
    }
   },
   "source": [
    "create_bar_chart(df,'term')"
   ],
   "outputs": [
    {
     "data": {
      "text/plain": [
       "<Figure size 640x480 with 1 Axes>"
      ],
      "image/png": "[encoded data removed]"
     },
     "metadata": {},
     "output_type": "display_data"
    }
   ],
   "execution_count": 18
  },
  {
   "cell_type": "markdown",
   "id": "d5933046",
   "metadata": {},
   "source": [
    "Again, there is a class imbalance problem here. But as this is a feature, I will later do a one-hot-encode for this column.\n",
    "\n",
    "Next, onto the credit score histogram."
   ]
  },
  {
   "cell_type": "code",
   "id": "ae276b21",
   "metadata": {
    "ExecuteTime": {
     "end_time": "2025-04-11T04:49:24.390829Z",
     "start_time": "2025-04-11T04:49:23.815666Z"
    }
   },
   "source": [
    "create_histogram(df,'credit_score')"
   ],
   "outputs": [
    {
     "data": {
      "text/plain": [
       "<Figure size 640x480 with 1 Axes>"
      ],
      "image/png": "[encoded data removed]"
     },
     "metadata": {},
     "output_type": "display_data"
    }
   ],
   "execution_count": 19
  },
  {
   "cell_type": "markdown",
   "id": "2acf7b9c",
   "metadata": {},
   "source": [
    "As we can see, there are values that exceed the maximum credit score according to FICO (850). Although there is another method of scoring credit which goes up to 900, I will use FICO as the most common one. I will take a look at the data description where the credit score exceeds 850."
   ]
  },
  {
   "cell_type": "code",
   "id": "f24568fb",
   "metadata": {
    "ExecuteTime": {
     "end_time": "2025-04-11T04:49:24.484275Z",
     "start_time": "2025-04-11T04:49:24.452569Z"
    }
   },
   "source": [
    "df[df.credit_score>850].credit_score.describe()"
   ],
   "outputs": [
    {
     "data": {
      "text/plain": [
       "count    5042.000000\n",
       "mean     7109.071797\n",
       "std       306.060537\n",
       "min      5850.000000\n",
       "25%      6950.000000\n",
       "50%      7190.000000\n",
       "75%      7350.000000\n",
       "max      7510.000000\n",
       "Name: credit_score, dtype: float64"
      ]
     },
     "execution_count": 20,
     "metadata": {},
     "output_type": "execute_result"
    }
   ],
   "execution_count": 20
  },
  {
   "cell_type": "markdown",
   "id": "3451914a",
   "metadata": {},
   "source": [
    "The minimum value is 5850 and the maximum value is 7510. Again, this has to be beacuse of errors in inputting the data. I will divide this score by 10, assuming that the errors happened because of inputting an extra 0 in each row.\n",
    "\n",
    "Next, I will take a look at the distribution of years in current job."
   ]
  },
  {
   "cell_type": "code",
   "id": "bdf560cd",
   "metadata": {
    "ExecuteTime": {
     "end_time": "2025-04-11T04:49:25.093341Z",
     "start_time": "2025-04-11T04:49:24.630617Z"
    }
   },
   "source": [
    "create_bar_chart(df,'years_in_current_job', rotation=45)"
   ],
   "outputs": [
    {
     "data": {
      "text/plain": [
       "<Figure size 640x480 with 1 Axes>"
      ],
      "image/png": "[encoded data removed]"
     },
     "metadata": {},
     "output_type": "display_data"
    }
   ],
   "execution_count": 21
  },
  {
   "cell_type": "markdown",
   "id": "a0958bef",
   "metadata": {},
   "source": [
    "Most of the people applying for loan have work 10+ years in their respective companies. The data type is string, because there are special characters and the word 'year(s)'. I will map this into numbers, but treat it as categorical data. \n",
    "\n",
    "Next, I will look at the distribution of home ownership."
   ]
  },
  {
   "cell_type": "code",
   "id": "91978fbf",
   "metadata": {
    "ExecuteTime": {
     "end_time": "2025-04-11T04:49:25.776465Z",
     "start_time": "2025-04-11T04:49:25.207547Z"
    }
   },
   "source": [
    "create_bar_chart(df,'home_ownership', rotation=45)"
   ],
   "outputs": [
    {
     "data": {
      "text/plain": [
       "<Figure size 640x480 with 1 Axes>"
      ],
      "image/png": "[encoded data removed]"
     },
     "metadata": {},
     "output_type": "display_data"
    }
   ],
   "execution_count": 22
  },
  {
   "cell_type": "markdown",
   "id": "566bb2f0",
   "metadata": {},
   "source": [
    "I think the values \"Home Mortgage\" and \"HaveMortgage\" is the same. I will have to change it accordingly in the data cleaning phase.\n",
    "\n",
    "Next, I will examine the distribution of annual income."
   ]
  },
  {
   "cell_type": "code",
   "id": "85bc8256",
   "metadata": {
    "ExecuteTime": {
     "end_time": "2025-04-11T04:49:26.550612Z",
     "start_time": "2025-04-11T04:49:26.133729Z"
    }
   },
   "source": [
    "create_histogram(df,'annual_income')"
   ],
   "outputs": [
    {
     "data": {
      "text/plain": [
       "<Figure size 640x480 with 1 Axes>"
      ],
      "image/png": "[encoded data removed]"
     },
     "metadata": {},
     "output_type": "display_data"
    }
   ],
   "execution_count": 23
  },
  {
   "cell_type": "markdown",
   "id": "f2d81f09",
   "metadata": {},
   "source": [
    "There seems to be extreme values in the data. I will check whether it's an error or not."
   ]
  },
  {
   "cell_type": "code",
   "id": "0c43334d",
   "metadata": {
    "ExecuteTime": {
     "end_time": "2025-04-11T04:49:26.661652Z",
     "start_time": "2025-04-11T04:49:26.626909Z"
    }
   },
   "source": [
    "df[df.annual_income == df.annual_income.max()]"
   ],
   "outputs": [
    {
     "data": {
      "text/plain": [
       "                                   loan_id  \\\n",
       "3669  6dfd2f9c-b796-4cb3-8f71-04d6ae8a8f92   \n",
       "\n",
       "                               customer_id   loan_status  current_loan_amount  \\\n",
       "3669  ceee183a-9b02-4b82-ae53-14ccd5f785fd  Loan Refused                 8006   \n",
       "\n",
       "            term  credit_score years_in_current_job home_ownership  \\\n",
       "3669  Short Term        7250.0            10+ years  Home Mortgage   \n",
       "\n",
       "      annual_income             purpose monthly_debt  years_of_credit_history  \\\n",
       "3669      8713547.0  Debt Consolidation       798.74                     16.0   \n",
       "\n",
       "      months_since_last_delinquent  number_of_open_accounts  \\\n",
       "3669                           NaN                       11   \n",
       "\n",
       "      number_of_credit_problems  current_credit_balance maximum_open_credit  \\\n",
       "3669                          0                   16462               30429   \n",
       "\n",
       "      bankruptcies  tax_liens  \n",
       "3669           0.0        0.0  "
      ],
      "text/html": [
       "<div>\n",
       "<style scoped>\n",
       "    .dataframe tbody tr th:only-of-type {\n",
       "        vertical-align: middle;\n",
       "    }\n",
       "\n",
       "    .dataframe tbody tr th {\n",
       "        vertical-align: top;\n",
       "    }\n",
       "\n",
       "    .dataframe thead th {\n",
       "        text-align: right;\n",
       "    }\n",
       "</style>\n",
       "<table border=\"1\" class=\"dataframe\">\n",
       "  <thead>\n",
       "    <tr style=\"text-align: right;\">\n",
       "      <th></th>\n",
       "      <th>loan_id</th>\n",
       "      <th>customer_id</th>\n",
       "      <th>loan_status</th>\n",
       "      <th>current_loan_amount</th>\n",
       "      <th>term</th>\n",
       "      <th>credit_score</th>\n",
       "      <th>years_in_current_job</th>\n",
       "      <th>home_ownership</th>\n",
       "      <th>annual_income</th>\n",
       "      <th>purpose</th>\n",
       "      <th>monthly_debt</th>\n",
       "      <th>years_of_credit_history</th>\n",
       "      <th>months_since_last_delinquent</th>\n",
       "      <th>number_of_open_accounts</th>\n",
       "      <th>number_of_credit_problems</th>\n",
       "      <th>current_credit_balance</th>\n",
       "      <th>maximum_open_credit</th>\n",
       "      <th>bankruptcies</th>\n",
       "      <th>tax_liens</th>\n",
       "    </tr>\n",
       "  </thead>\n",
       "  <tbody>\n",
       "    <tr>\n",
       "      <th>3669</th>\n",
       "      <td>6dfd2f9c-b796-4cb3-8f71-04d6ae8a8f92</td>\n",
       "      <td>ceee183a-9b02-4b82-ae53-14ccd5f785fd</td>\n",
       "      <td>Loan Refused</td>\n",
       "      <td>8006</td>\n",
       "      <td>Short Term</td>\n",
       "      <td>7250.0</td>\n",
       "      <td>10+ years</td>\n",
       "      <td>Home Mortgage</td>\n",
       "      <td>8713547.0</td>\n",
       "      <td>Debt Consolidation</td>\n",
       "      <td>798.74</td>\n",
       "      <td>16.0</td>\n",
       "      <td>NaN</td>\n",
       "      <td>11</td>\n",
       "      <td>0</td>\n",
       "      <td>16462</td>\n",
       "      <td>30429</td>\n",
       "      <td>0.0</td>\n",
       "      <td>0.0</td>\n",
       "    </tr>\n",
       "  </tbody>\n",
       "</table>\n",
       "</div>"
      ]
     },
     "execution_count": 24,
     "metadata": {},
     "output_type": "execute_result"
    }
   ],
   "execution_count": 24
  },
  {
   "cell_type": "markdown",
   "id": "30cd85ee",
   "metadata": {},
   "source": [
    "I'm not really sure whether this is an error or not. I would say it's possible for someone to have an annual income of USD 8M+ (assuming that the annual income is in USD). And since the purpose of the loan is debt consolidation, it's probable that this person uses debt to finance the business. Therefore, I will not change it and assume that this data is correct."
   ]
  },
  {
   "cell_type": "code",
   "id": "e7367823",
   "metadata": {
    "ExecuteTime": {
     "end_time": "2025-04-11T04:49:27.380052Z",
     "start_time": "2025-04-11T04:49:26.821903Z"
    }
   },
   "source": [
    "create_bar_chart(df,'purpose', rotation=90)"
   ],
   "outputs": [
    {
     "data": {
      "text/plain": [
       "<Figure size 640x480 with 1 Axes>"
      ],
      "image/png": "[encoded data removed]"
     },
     "metadata": {},
     "output_type": "display_data"
    }
   ],
   "execution_count": 25
  },
  {
   "cell_type": "markdown",
   "id": "9876eb21",
   "metadata": {},
   "source": [
    "The majority of people applied for loans with the purpose of debt consolidation. One thing to note here, the data is written using 2 styles: Title and Snake Case. I will convert all the values in columns with string values into snake case (all lowercase), especially for the ones I need to do one-hot-encoding. Looking closely, if I let the values to be as they are, there will be problem such as \"other\" and \"Other\" being treated differently while it's obviously the same.\n",
    "\n",
    "Before moving on the the monthly_debt, I need to check why the column has object values instead of float (as I mentioned before)."
   ]
  },
  {
   "cell_type": "code",
   "id": "b1e2cb2b",
   "metadata": {
    "ExecuteTime": {
     "end_time": "2025-04-11T04:49:27.722236Z",
     "start_time": "2025-04-11T04:49:27.510164Z"
    }
   },
   "source": [
    "data_list = df.monthly_debt.tolist()\n",
    "data_list_numeric = pd.to_numeric(data_list, errors='coerce')\n",
    "non_numeric_indices = [index for index, item in enumerate(data_list_numeric) if pd.isna(item)]\n",
    "for idx in non_numeric_indices:\n",
    "    print(data_list[idx])"
   ],
   "outputs": [
    {
     "name": "stdout",
     "output_type": "stream",
     "text": [
      "$1051.41\n",
      "$157.15\n",
      "$944.7\n",
      "$481.34\n",
      "$1838.98\n",
      "$471.6\n"
     ]
    }
   ],
   "execution_count": 26
  },
  {
   "cell_type": "markdown",
   "id": "1986eae7",
   "metadata": {},
   "source": [
    "Apparently, the monthly_debt column has a dollar symbol on some of the values. Before proceeding to build the histogram, I need to fix this and change the datatype into float."
   ]
  },
  {
   "cell_type": "code",
   "id": "23cd6d80",
   "metadata": {
    "ExecuteTime": {
     "end_time": "2025-04-11T04:49:28.083831Z",
     "start_time": "2025-04-11T04:49:28.012320Z"
    }
   },
   "source": [
    "data_float = []\n",
    "for i in data_list:\n",
    "    try:\n",
    "        flt_data = float(i)\n",
    "    except:\n",
    "        flt_data = float(i.strip().replace('$',''))\n",
    "    data_float.append(flt_data)"
   ],
   "outputs": [],
   "execution_count": 27
  },
  {
   "cell_type": "code",
   "id": "7b681503",
   "metadata": {
    "ExecuteTime": {
     "end_time": "2025-04-11T04:49:28.299315Z",
     "start_time": "2025-04-11T04:49:28.167010Z"
    }
   },
   "source": [
    "data_list_numeric = pd.to_numeric(data_float, errors='coerce')\n",
    "non_numeric_indices = [index for index, item in enumerate(data_float) if pd.isna(item)]\n",
    "print(f\"There are {len(non_numeric_indices)} non-numeric data\")"
   ],
   "outputs": [
    {
     "name": "stdout",
     "output_type": "stream",
     "text": [
      "There are 0 non-numeric data\n"
     ]
    }
   ],
   "execution_count": 28
  },
  {
   "cell_type": "code",
   "id": "455fd95c",
   "metadata": {
    "ExecuteTime": {
     "end_time": "2025-04-11T04:49:28.378387Z",
     "start_time": "2025-04-11T04:49:28.352525Z"
    }
   },
   "source": [
    "df['monthly_debt'] = data_float"
   ],
   "outputs": [],
   "execution_count": 29
  },
  {
   "cell_type": "code",
   "id": "eb0e0e0e",
   "metadata": {
    "ExecuteTime": {
     "end_time": "2025-04-11T04:49:28.520351Z",
     "start_time": "2025-04-11T04:49:28.442525Z"
    }
   },
   "source": [
    "df.info()"
   ],
   "outputs": [
    {
     "name": "stdout",
     "output_type": "stream",
     "text": [
      "<class 'pandas.core.frame.DataFrame'>\n",
      "RangeIndex: 111105 entries, 0 to 111104\n",
      "Data columns (total 19 columns):\n",
      " #   Column                        Non-Null Count   Dtype  \n",
      "---  ------                        --------------   -----  \n",
      " 0   loan_id                       111105 non-null  object \n",
      " 1   customer_id                   111105 non-null  object \n",
      " 2   loan_status                   111105 non-null  object \n",
      " 3   current_loan_amount           111105 non-null  int64  \n",
      " 4   term                          111105 non-null  object \n",
      " 5   credit_score                  89767 non-null   float64\n",
      " 6   years_in_current_job          106412 non-null  object \n",
      " 7   home_ownership                111105 non-null  object \n",
      " 8   annual_income                 89767 non-null   float64\n",
      " 9   purpose                       111105 non-null  object \n",
      " 10  monthly_debt                  111105 non-null  float64\n",
      " 11  years_of_credit_history       111105 non-null  float64\n",
      " 12  months_since_last_delinquent  52102 non-null   float64\n",
      " 13  number_of_open_accounts       111105 non-null  int64  \n",
      " 14  number_of_credit_problems     111105 non-null  int64  \n",
      " 15  current_credit_balance        111105 non-null  int64  \n",
      " 16  maximum_open_credit           111105 non-null  object \n",
      " 17  bankruptcies                  110877 non-null  float64\n",
      " 18  tax_liens                     111094 non-null  float64\n",
      "dtypes: float64(7), int64(4), object(8)\n",
      "memory usage: 16.1+ MB\n"
     ]
    }
   ],
   "execution_count": 30
  },
  {
   "cell_type": "markdown",
   "id": "2c6dbc2e",
   "metadata": {},
   "source": [
    "Now, the monthly_debt has the correct datatype. I will plot the histogram."
   ]
  },
  {
   "cell_type": "code",
   "id": "59a057e5",
   "metadata": {
    "ExecuteTime": {
     "end_time": "2025-04-11T04:49:28.910980Z",
     "start_time": "2025-04-11T04:49:28.618781Z"
    }
   },
   "source": [
    "create_histogram(df,'monthly_debt')"
   ],
   "outputs": [
    {
     "data": {
      "text/plain": [
       "<Figure size 640x480 with 1 Axes>"
      ],
      "image/png": "[encoded data removed]"
     },
     "metadata": {},
     "output_type": "display_data"
    }
   ],
   "execution_count": 31
  },
  {
   "cell_type": "markdown",
   "id": "258fdc31",
   "metadata": {},
   "source": [
    "There seems to be extreme values as well in this data. Let's check the data description of people with monthly debt larger than the 75% quantile."
   ]
  },
  {
   "cell_type": "code",
   "id": "545ccfae",
   "metadata": {
    "ExecuteTime": {
     "end_time": "2025-04-11T04:49:29.021161Z",
     "start_time": "2025-04-11T04:49:28.979098Z"
    }
   },
   "source": [
    "df[df.monthly_debt > df.monthly_debt.describe()['75%']].monthly_debt.describe()"
   ],
   "outputs": [
    {
     "data": {
      "text/plain": [
       "count    27775.000000\n",
       "mean      1821.517244\n",
       "std        625.113477\n",
       "min       1262.720000\n",
       "25%       1416.895000\n",
       "50%       1636.520000\n",
       "75%       2011.140000\n",
       "max      22939.120000\n",
       "Name: monthly_debt, dtype: float64"
      ]
     },
     "execution_count": 32,
     "metadata": {},
     "output_type": "execute_result"
    }
   ],
   "execution_count": 32
  },
  {
   "cell_type": "markdown",
   "id": "ca092cad",
   "metadata": {},
   "source": [
    "The extreme values are still present. Let's check whether it's still present if the monthly debt is larger than 10000."
   ]
  },
  {
   "cell_type": "code",
   "id": "aec219ef",
   "metadata": {
    "ExecuteTime": {
     "end_time": "2025-04-11T04:49:29.193530Z",
     "start_time": "2025-04-11T04:49:29.167635Z"
    }
   },
   "source": [
    "df[df.monthly_debt >10000].monthly_debt"
   ],
   "outputs": [
    {
     "data": {
      "text/plain": [
       "4010     10831.65\n",
       "18580    12055.68\n",
       "79752    22939.12\n",
       "89940    12055.68\n",
       "Name: monthly_debt, dtype: float64"
      ]
     },
     "execution_count": 33,
     "metadata": {},
     "output_type": "execute_result"
    }
   ],
   "execution_count": 33
  },
  {
   "cell_type": "markdown",
   "id": "395b8370",
   "metadata": {},
   "source": [
    "Apparently, the extreme values are just present without errors. It's possible that some people have high monthly debt to be paid. Therefore, I won't do anything to this column as well."
   ]
  },
  {
   "cell_type": "code",
   "id": "8f7d3943",
   "metadata": {
    "ExecuteTime": {
     "end_time": "2025-04-11T04:49:29.711344Z",
     "start_time": "2025-04-11T04:49:29.343074Z"
    }
   },
   "source": [
    "create_histogram(df,'years_of_credit_history')"
   ],
   "outputs": [
    {
     "data": {
      "text/plain": [
       "<Figure size 640x480 with 1 Axes>"
      ],
      "image/png": "[encoded data removed]"
     },
     "metadata": {},
     "output_type": "display_data"
    }
   ],
   "execution_count": 34
  },
  {
   "cell_type": "markdown",
   "id": "14b62499",
   "metadata": {},
   "source": [
    "The distribution is skewed to the right. The number of people with 10 to about 18 years in credit history is the most compared to the other bins."
   ]
  },
  {
   "cell_type": "code",
   "id": "3d3d9e59",
   "metadata": {
    "ExecuteTime": {
     "end_time": "2025-04-11T04:49:30.370285Z",
     "start_time": "2025-04-11T04:49:29.963013Z"
    }
   },
   "source": [
    "create_histogram(df,'months_since_last_delinquent')"
   ],
   "outputs": [
    {
     "data": {
      "text/plain": [
       "<Figure size 640x480 with 1 Axes>"
      ],
      "image/png": "[encoded data removed]"
     },
     "metadata": {},
     "output_type": "display_data"
    }
   ],
   "execution_count": 35
  },
  {
   "cell_type": "code",
   "id": "a4f46998",
   "metadata": {
    "ExecuteTime": {
     "end_time": "2025-04-11T04:49:30.465280Z",
     "start_time": "2025-04-11T04:49:30.454220Z"
    }
   },
   "source": [
    "df.months_since_last_delinquent.isnull().sum()/df.shape[0]"
   ],
   "outputs": [
    {
     "data": {
      "text/plain": [
       "0.531056208091445"
      ]
     },
     "execution_count": 36,
     "metadata": {},
     "output_type": "execute_result"
    }
   ],
   "execution_count": 36
  },
  {
   "cell_type": "code",
   "id": "ba3085d9",
   "metadata": {
    "ExecuteTime": {
     "end_time": "2025-04-11T04:49:30.588887Z",
     "start_time": "2025-04-11T04:49:30.548953Z"
    }
   },
   "source": [
    "df[df.months_since_last_delinquent == df.months_since_last_delinquent.max()]"
   ],
   "outputs": [
    {
     "data": {
      "text/plain": [
       "                                     loan_id  \\\n",
       "83368   b7a27936-8fa8-4b9e-a35f-3a2b57ee725e   \n",
       "107593  b7a27936-8fa8-4b9e-a35f-3a2b57ee725e   \n",
       "\n",
       "                                 customer_id loan_status  current_loan_amount  \\\n",
       "83368   8480986e-847d-4523-9e04-21aff3713190  Loan Given                 7928   \n",
       "107593  8480986e-847d-4523-9e04-21aff3713190  Loan Given                 7928   \n",
       "\n",
       "              term  credit_score years_in_current_job home_ownership  \\\n",
       "83368   Short Term         715.0            10+ years       Own Home   \n",
       "107593  Short Term         715.0            10+ years       Own Home   \n",
       "\n",
       "        annual_income             purpose  monthly_debt  \\\n",
       "83368         55193.0  Debt Consolidation       1044.06   \n",
       "107593        55193.0  Debt Consolidation       1044.06   \n",
       "\n",
       "        years_of_credit_history  months_since_last_delinquent  \\\n",
       "83368                      23.8                         176.0   \n",
       "107593                     23.8                         176.0   \n",
       "\n",
       "        number_of_open_accounts  number_of_credit_problems  \\\n",
       "83368                        13                          0   \n",
       "107593                       13                          0   \n",
       "\n",
       "        current_credit_balance maximum_open_credit  bankruptcies  tax_liens  \n",
       "83368                    19174               20978           0.0        0.0  \n",
       "107593                   19174               20978           0.0        0.0  "
      ],
      "text/html": [
       "<div>\n",
       "<style scoped>\n",
       "    .dataframe tbody tr th:only-of-type {\n",
       "        vertical-align: middle;\n",
       "    }\n",
       "\n",
       "    .dataframe tbody tr th {\n",
       "        vertical-align: top;\n",
       "    }\n",
       "\n",
       "    .dataframe thead th {\n",
       "        text-align: right;\n",
       "    }\n",
       "</style>\n",
       "<table border=\"1\" class=\"dataframe\">\n",
       "  <thead>\n",
       "    <tr style=\"text-align: right;\">\n",
       "      <th></th>\n",
       "      <th>loan_id</th>\n",
       "      <th>customer_id</th>\n",
       "      <th>loan_status</th>\n",
       "      <th>current_loan_amount</th>\n",
       "      <th>term</th>\n",
       "      <th>credit_score</th>\n",
       "      <th>years_in_current_job</th>\n",
       "      <th>home_ownership</th>\n",
       "      <th>annual_income</th>\n",
       "      <th>purpose</th>\n",
       "      <th>monthly_debt</th>\n",
       "      <th>years_of_credit_history</th>\n",
       "      <th>months_since_last_delinquent</th>\n",
       "      <th>number_of_open_accounts</th>\n",
       "      <th>number_of_credit_problems</th>\n",
       "      <th>current_credit_balance</th>\n",
       "      <th>maximum_open_credit</th>\n",
       "      <th>bankruptcies</th>\n",
       "      <th>tax_liens</th>\n",
       "    </tr>\n",
       "  </thead>\n",
       "  <tbody>\n",
       "    <tr>\n",
       "      <th>83368</th>\n",
       "      <td>b7a27936-8fa8-4b9e-a35f-3a2b57ee725e</td>\n",
       "      <td>8480986e-847d-4523-9e04-21aff3713190</td>\n",
       "      <td>Loan Given</td>\n",
       "      <td>7928</td>\n",
       "      <td>Short Term</td>\n",
       "      <td>715.0</td>\n",
       "      <td>10+ years</td>\n",
       "      <td>Own Home</td>\n",
       "      <td>55193.0</td>\n",
       "      <td>Debt Consolidation</td>\n",
       "      <td>1044.06</td>\n",
       "      <td>23.8</td>\n",
       "      <td>176.0</td>\n",
       "      <td>13</td>\n",
       "      <td>0</td>\n",
       "      <td>19174</td>\n",
       "      <td>20978</td>\n",
       "      <td>0.0</td>\n",
       "      <td>0.0</td>\n",
       "    </tr>\n",
       "    <tr>\n",
       "      <th>107593</th>\n",
       "      <td>b7a27936-8fa8-4b9e-a35f-3a2b57ee725e</td>\n",
       "      <td>8480986e-847d-4523-9e04-21aff3713190</td>\n",
       "      <td>Loan Given</td>\n",
       "      <td>7928</td>\n",
       "      <td>Short Term</td>\n",
       "      <td>715.0</td>\n",
       "      <td>10+ years</td>\n",
       "      <td>Own Home</td>\n",
       "      <td>55193.0</td>\n",
       "      <td>Debt Consolidation</td>\n",
       "      <td>1044.06</td>\n",
       "      <td>23.8</td>\n",
       "      <td>176.0</td>\n",
       "      <td>13</td>\n",
       "      <td>0</td>\n",
       "      <td>19174</td>\n",
       "      <td>20978</td>\n",
       "      <td>0.0</td>\n",
       "      <td>0.0</td>\n",
       "    </tr>\n",
       "  </tbody>\n",
       "</table>\n",
       "</div>"
      ]
     },
     "execution_count": 37,
     "metadata": {},
     "output_type": "execute_result"
    }
   ],
   "execution_count": 37
  },
  {
   "cell_type": "markdown",
   "id": "3fe8d867",
   "metadata": {},
   "source": [
    "Delinquency in loan refers to when someone is late in paying debt. Based on the histogram, there are extreme values as well. And the highest frequency is from about 23 to 27 months, followed by 0 to about 22 months. There are more than 53% missing data here.\n",
    "\n",
    "When examining the extreme values, I found out that there are duplicates in the dataset. I will deal with it during the data cleaning phase.\n",
    "\n",
    "Next, I will examine the number of open accounts."
   ]
  },
  {
   "cell_type": "code",
   "id": "249660cd",
   "metadata": {
    "ExecuteTime": {
     "end_time": "2025-04-11T04:49:31.280562Z",
     "start_time": "2025-04-11T04:49:30.924653Z"
    }
   },
   "source": [
    "create_histogram(df,'number_of_open_accounts')"
   ],
   "outputs": [
    {
     "data": {
      "text/plain": [
       "<Figure size 640x480 with 1 Axes>"
      ],
      "image/png": "[encoded data removed]"
     },
     "metadata": {},
     "output_type": "display_data"
    }
   ],
   "execution_count": 38
  },
  {
   "cell_type": "code",
   "id": "59d7a612",
   "metadata": {
    "ExecuteTime": {
     "end_time": "2025-04-11T04:49:31.436314Z",
     "start_time": "2025-04-11T04:49:31.393035Z"
    }
   },
   "source": [
    "df[df.number_of_open_accounts == df.number_of_open_accounts.max()]"
   ],
   "outputs": [
    {
     "data": {
      "text/plain": [
       "                                    loan_id  \\\n",
       "2249   08dab131-9db3-4184-a32a-e12e48fd5d6c   \n",
       "54290  f4e0a453-a5ec-4011-9513-9d203ffe8e3c   \n",
       "\n",
       "                                customer_id   loan_status  \\\n",
       "2249   907c2a89-76f8-4089-9a47-d410bb885339  Loan Refused   \n",
       "54290  3e62a9e2-a61b-472d-8e56-234e30061580  Loan Refused   \n",
       "\n",
       "       current_loan_amount        term  credit_score years_in_current_job  \\\n",
       "2249                 18755   Long Term        6700.0              7 years   \n",
       "54290                20426  Short Term         708.0              5 years   \n",
       "\n",
       "      home_ownership  annual_income             purpose  monthly_debt  \\\n",
       "2249            Rent        46912.0  Debt Consolidation       1032.06   \n",
       "54290  Home Mortgage       122556.0  Debt Consolidation       2195.80   \n",
       "\n",
       "       years_of_credit_history  months_since_last_delinquent  \\\n",
       "2249                      27.4                           NaN   \n",
       "54290                     15.7                           NaN   \n",
       "\n",
       "       number_of_open_accounts  number_of_credit_problems  \\\n",
       "2249                        76                          0   \n",
       "54290                       76                          0   \n",
       "\n",
       "       current_credit_balance maximum_open_credit  bankruptcies  tax_liens  \n",
       "2249                    22111               28131           0.0        0.0  \n",
       "54290                   40606              121575           0.0        0.0  "
      ],
      "text/html": [
       "<div>\n",
       "<style scoped>\n",
       "    .dataframe tbody tr th:only-of-type {\n",
       "        vertical-align: middle;\n",
       "    }\n",
       "\n",
       "    .dataframe tbody tr th {\n",
       "        vertical-align: top;\n",
       "    }\n",
       "\n",
       "    .dataframe thead th {\n",
       "        text-align: right;\n",
       "    }\n",
       "</style>\n",
       "<table border=\"1\" class=\"dataframe\">\n",
       "  <thead>\n",
       "    <tr style=\"text-align: right;\">\n",
       "      <th></th>\n",
       "      <th>loan_id</th>\n",
       "      <th>customer_id</th>\n",
       "      <th>loan_status</th>\n",
       "      <th>current_loan_amount</th>\n",
       "      <th>term</th>\n",
       "      <th>credit_score</th>\n",
       "      <th>years_in_current_job</th>\n",
       "      <th>home_ownership</th>\n",
       "      <th>annual_income</th>\n",
       "      <th>purpose</th>\n",
       "      <th>monthly_debt</th>\n",
       "      <th>years_of_credit_history</th>\n",
       "      <th>months_since_last_delinquent</th>\n",
       "      <th>number_of_open_accounts</th>\n",
       "      <th>number_of_credit_problems</th>\n",
       "      <th>current_credit_balance</th>\n",
       "      <th>maximum_open_credit</th>\n",
       "      <th>bankruptcies</th>\n",
       "      <th>tax_liens</th>\n",
       "    </tr>\n",
       "  </thead>\n",
       "  <tbody>\n",
       "    <tr>\n",
       "      <th>2249</th>\n",
       "      <td>08dab131-9db3-4184-a32a-e12e48fd5d6c</td>\n",
       "      <td>907c2a89-76f8-4089-9a47-d410bb885339</td>\n",
       "      <td>Loan Refused</td>\n",
       "      <td>18755</td>\n",
       "      <td>Long Term</td>\n",
       "      <td>6700.0</td>\n",
       "      <td>7 years</td>\n",
       "      <td>Rent</td>\n",
       "      <td>46912.0</td>\n",
       "      <td>Debt Consolidation</td>\n",
       "      <td>1032.06</td>\n",
       "      <td>27.4</td>\n",
       "      <td>NaN</td>\n",
       "      <td>76</td>\n",
       "      <td>0</td>\n",
       "      <td>22111</td>\n",
       "      <td>28131</td>\n",
       "      <td>0.0</td>\n",
       "      <td>0.0</td>\n",
       "    </tr>\n",
       "    <tr>\n",
       "      <th>54290</th>\n",
       "      <td>f4e0a453-a5ec-4011-9513-9d203ffe8e3c</td>\n",
       "      <td>3e62a9e2-a61b-472d-8e56-234e30061580</td>\n",
       "      <td>Loan Refused</td>\n",
       "      <td>20426</td>\n",
       "      <td>Short Term</td>\n",
       "      <td>708.0</td>\n",
       "      <td>5 years</td>\n",
       "      <td>Home Mortgage</td>\n",
       "      <td>122556.0</td>\n",
       "      <td>Debt Consolidation</td>\n",
       "      <td>2195.80</td>\n",
       "      <td>15.7</td>\n",
       "      <td>NaN</td>\n",
       "      <td>76</td>\n",
       "      <td>0</td>\n",
       "      <td>40606</td>\n",
       "      <td>121575</td>\n",
       "      <td>0.0</td>\n",
       "      <td>0.0</td>\n",
       "    </tr>\n",
       "  </tbody>\n",
       "</table>\n",
       "</div>"
      ]
     },
     "execution_count": 39,
     "metadata": {},
     "output_type": "execute_result"
    }
   ],
   "execution_count": 39
  },
  {
   "cell_type": "markdown",
   "id": "f7ef20fe",
   "metadata": {},
   "source": [
    "The column account here is not clear. It can refer to the number of bank accounts or loan accounts opened. Most people have about 9 to 15 accounts opened. The distribution is also skewed to the right."
   ]
  },
  {
   "cell_type": "code",
   "id": "23677d12",
   "metadata": {
    "ExecuteTime": {
     "end_time": "2025-04-11T04:49:32.048857Z",
     "start_time": "2025-04-11T04:49:31.659945Z"
    }
   },
   "source": [
    "create_histogram(df, 'number_of_credit_problems')"
   ],
   "outputs": [
    {
     "data": {
      "text/plain": [
       "<Figure size 640x480 with 1 Axes>"
      ],
      "image/png": "[encoded data removed]"
     },
     "metadata": {},
     "output_type": "display_data"
    }
   ],
   "execution_count": 40
  },
  {
   "cell_type": "markdown",
   "id": "5eaa4270",
   "metadata": {},
   "source": [
    "Most people don't have problems in their credit. I will examine the relationship between this variable with loan status later."
   ]
  },
  {
   "cell_type": "code",
   "id": "a38117a8",
   "metadata": {
    "ExecuteTime": {
     "end_time": "2025-04-11T04:49:33.186642Z",
     "start_time": "2025-04-11T04:49:32.457376Z"
    }
   },
   "source": [
    "create_histogram(df, 'current_credit_balance')"
   ],
   "outputs": [
    {
     "data": {
      "text/plain": [
       "<Figure size 640x480 with 1 Axes>"
      ],
      "image/png": "[encoded data removed]"
     },
     "metadata": {},
     "output_type": "display_data"
    }
   ],
   "execution_count": 41
  },
  {
   "cell_type": "markdown",
   "id": "191f3ab0",
   "metadata": {},
   "source": [
    "Credit balance in loans often refers to whether a borrower overpaid their loans. Since there are no negative numbers, all of the people either paid the exact loan amount or overpaid their loans.\n",
    "\n",
    "The maximum open credit column has object as datatype. It should be numeric. I will see what's wrong with this column."
   ]
  },
  {
   "cell_type": "code",
   "id": "c11df610",
   "metadata": {
    "ExecuteTime": {
     "end_time": "2025-04-11T04:49:33.716337Z",
     "start_time": "2025-04-11T04:49:33.443666Z"
    }
   },
   "source": [
    "data_list = df.maximum_open_credit.tolist()\n",
    "data_list_numeric = pd.to_numeric(data_list, errors='coerce')\n",
    "non_numeric_indices = [index for index, item in enumerate(data_list_numeric) if pd.isna(item)]\n",
    "for idx in non_numeric_indices:\n",
    "    print(data_list[idx])"
   ],
   "outputs": [
    {
     "name": "stdout",
     "output_type": "stream",
     "text": [
      "#VALUE!\n",
      "#VALUE!\n"
     ]
    }
   ],
   "execution_count": 42
  },
  {
   "cell_type": "code",
   "id": "fb5f0223",
   "metadata": {
    "ExecuteTime": {
     "end_time": "2025-04-11T04:49:33.826002Z",
     "start_time": "2025-04-11T04:49:33.773346Z"
    }
   },
   "source": [
    "df[df.maximum_open_credit == '#VALUE!']"
   ],
   "outputs": [
    {
     "data": {
      "text/plain": [
       "                                    loan_id  \\\n",
       "4928   e42ae1f7-74b5-46d7-95ce-46a88918ba12   \n",
       "37355  b798f46b-e27b-4823-af83-294b1ffc3490   \n",
       "\n",
       "                                customer_id   loan_status  \\\n",
       "4928   a679ed55-963a-4de6-8be0-4364eb601b6f  Loan Refused   \n",
       "37355  f61890c5-e264-4b0f-a047-9cfa03b9d182  Loan Refused   \n",
       "\n",
       "       current_loan_amount        term  credit_score years_in_current_job  \\\n",
       "4928                  2052  Short Term        7030.0            10+ years   \n",
       "37355                 1470  Short Term           NaN              2 years   \n",
       "\n",
       "      home_ownership  annual_income             purpose  monthly_debt  \\\n",
       "4928            Rent        95105.0  Debt Consolidation       1910.02   \n",
       "37355           Rent            NaN  Debt Consolidation        506.34   \n",
       "\n",
       "       years_of_credit_history  months_since_last_delinquent  \\\n",
       "4928                      22.4                          37.0   \n",
       "37355                     15.3                          26.0   \n",
       "\n",
       "       number_of_open_accounts  number_of_credit_problems  \\\n",
       "4928                         9                          0   \n",
       "37355                        3                          0   \n",
       "\n",
       "       current_credit_balance maximum_open_credit  bankruptcies  tax_liens  \n",
       "4928                        0             #VALUE!           0.0        0.0  \n",
       "37355                       0             #VALUE!           0.0        0.0  "
      ],
      "text/html": [
       "<div>\n",
       "<style scoped>\n",
       "    .dataframe tbody tr th:only-of-type {\n",
       "        vertical-align: middle;\n",
       "    }\n",
       "\n",
       "    .dataframe tbody tr th {\n",
       "        vertical-align: top;\n",
       "    }\n",
       "\n",
       "    .dataframe thead th {\n",
       "        text-align: right;\n",
       "    }\n",
       "</style>\n",
       "<table border=\"1\" class=\"dataframe\">\n",
       "  <thead>\n",
       "    <tr style=\"text-align: right;\">\n",
       "      <th></th>\n",
       "      <th>loan_id</th>\n",
       "      <th>customer_id</th>\n",
       "      <th>loan_status</th>\n",
       "      <th>current_loan_amount</th>\n",
       "      <th>term</th>\n",
       "      <th>credit_score</th>\n",
       "      <th>years_in_current_job</th>\n",
       "      <th>home_ownership</th>\n",
       "      <th>annual_income</th>\n",
       "      <th>purpose</th>\n",
       "      <th>monthly_debt</th>\n",
       "      <th>years_of_credit_history</th>\n",
       "      <th>months_since_last_delinquent</th>\n",
       "      <th>number_of_open_accounts</th>\n",
       "      <th>number_of_credit_problems</th>\n",
       "      <th>current_credit_balance</th>\n",
       "      <th>maximum_open_credit</th>\n",
       "      <th>bankruptcies</th>\n",
       "      <th>tax_liens</th>\n",
       "    </tr>\n",
       "  </thead>\n",
       "  <tbody>\n",
       "    <tr>\n",
       "      <th>4928</th>\n",
       "      <td>e42ae1f7-74b5-46d7-95ce-46a88918ba12</td>\n",
       "      <td>a679ed55-963a-4de6-8be0-4364eb601b6f</td>\n",
       "      <td>Loan Refused</td>\n",
       "      <td>2052</td>\n",
       "      <td>Short Term</td>\n",
       "      <td>7030.0</td>\n",
       "      <td>10+ years</td>\n",
       "      <td>Rent</td>\n",
       "      <td>95105.0</td>\n",
       "      <td>Debt Consolidation</td>\n",
       "      <td>1910.02</td>\n",
       "      <td>22.4</td>\n",
       "      <td>37.0</td>\n",
       "      <td>9</td>\n",
       "      <td>0</td>\n",
       "      <td>0</td>\n",
       "      <td>#VALUE!</td>\n",
       "      <td>0.0</td>\n",
       "      <td>0.0</td>\n",
       "    </tr>\n",
       "    <tr>\n",
       "      <th>37355</th>\n",
       "      <td>b798f46b-e27b-4823-af83-294b1ffc3490</td>\n",
       "      <td>f61890c5-e264-4b0f-a047-9cfa03b9d182</td>\n",
       "      <td>Loan Refused</td>\n",
       "      <td>1470</td>\n",
       "      <td>Short Term</td>\n",
       "      <td>NaN</td>\n",
       "      <td>2 years</td>\n",
       "      <td>Rent</td>\n",
       "      <td>NaN</td>\n",
       "      <td>Debt Consolidation</td>\n",
       "      <td>506.34</td>\n",
       "      <td>15.3</td>\n",
       "      <td>26.0</td>\n",
       "      <td>3</td>\n",
       "      <td>0</td>\n",
       "      <td>0</td>\n",
       "      <td>#VALUE!</td>\n",
       "      <td>0.0</td>\n",
       "      <td>0.0</td>\n",
       "    </tr>\n",
       "  </tbody>\n",
       "</table>\n",
       "</div>"
      ]
     },
     "execution_count": 43,
     "metadata": {},
     "output_type": "execute_result"
    }
   ],
   "execution_count": 43
  },
  {
   "cell_type": "markdown",
   "id": "be19d0fd",
   "metadata": {},
   "source": [
    "Clearly, there are errors in inputting the data. I will replace these with NaN values since I don't know what the actual values are."
   ]
  },
  {
   "cell_type": "code",
   "id": "781032bd",
   "metadata": {
    "ExecuteTime": {
     "end_time": "2025-04-11T04:49:34.248103Z",
     "start_time": "2025-04-11T04:49:34.012591Z"
    }
   },
   "source": [
    "df['maximum_open_credit'] = df.maximum_open_credit.replace('#VALUE!', np.nan, regex=True)\n",
    "df['maximum_open_credit'] = df['maximum_open_credit'].astype('float')"
   ],
   "outputs": [],
   "execution_count": 44
  },
  {
   "cell_type": "code",
   "id": "baed266e",
   "metadata": {
    "ExecuteTime": {
     "end_time": "2025-04-11T04:49:34.890535Z",
     "start_time": "2025-04-11T04:49:34.361151Z"
    }
   },
   "source": [
    "create_histogram(df,'maximum_open_credit')"
   ],
   "outputs": [
    {
     "data": {
      "text/plain": [
       "<Figure size 640x480 with 1 Axes>"
      ],
      "image/png": "[encoded data removed]"
     },
     "metadata": {},
     "output_type": "display_data"
    }
   ],
   "execution_count": 45
  },
  {
   "cell_type": "markdown",
   "id": "beaed02a",
   "metadata": {},
   "source": [
    "Again, there are extreme values present. I will examine that."
   ]
  },
  {
   "cell_type": "code",
   "id": "9902d857",
   "metadata": {
    "ExecuteTime": {
     "end_time": "2025-04-11T04:49:35.190816Z",
     "start_time": "2025-04-11T04:49:35.148763Z"
    }
   },
   "source": [
    "df[df.maximum_open_credit == df.maximum_open_credit.max()]"
   ],
   "outputs": [
    {
     "data": {
      "text/plain": [
       "                                    loan_id  \\\n",
       "58914  f02dc06f-30f4-4b1d-ba58-156c2f3bd33d   \n",
       "\n",
       "                                customer_id loan_status  current_loan_amount  \\\n",
       "58914  a5c22bae-59c4-4a6c-8f04-628a4dadef57  Loan Given                34419   \n",
       "\n",
       "            term  credit_score years_in_current_job home_ownership  \\\n",
       "58914  Long Term         729.0             < 1 year  Home Mortgage   \n",
       "\n",
       "       annual_income             purpose  monthly_debt  \\\n",
       "58914       172095.0  Debt Consolidation       2007.78   \n",
       "\n",
       "       years_of_credit_history  months_since_last_delinquent  \\\n",
       "58914                     19.8                           NaN   \n",
       "\n",
       "       number_of_open_accounts  number_of_credit_problems  \\\n",
       "58914                       16                          0   \n",
       "\n",
       "       current_credit_balance  maximum_open_credit  bankruptcies  tax_liens  \n",
       "58914                  139976           69988086.0           0.0        0.0  "
      ],
      "text/html": [
       "<div>\n",
       "<style scoped>\n",
       "    .dataframe tbody tr th:only-of-type {\n",
       "        vertical-align: middle;\n",
       "    }\n",
       "\n",
       "    .dataframe tbody tr th {\n",
       "        vertical-align: top;\n",
       "    }\n",
       "\n",
       "    .dataframe thead th {\n",
       "        text-align: right;\n",
       "    }\n",
       "</style>\n",
       "<table border=\"1\" class=\"dataframe\">\n",
       "  <thead>\n",
       "    <tr style=\"text-align: right;\">\n",
       "      <th></th>\n",
       "      <th>loan_id</th>\n",
       "      <th>customer_id</th>\n",
       "      <th>loan_status</th>\n",
       "      <th>current_loan_amount</th>\n",
       "      <th>term</th>\n",
       "      <th>credit_score</th>\n",
       "      <th>years_in_current_job</th>\n",
       "      <th>home_ownership</th>\n",
       "      <th>annual_income</th>\n",
       "      <th>purpose</th>\n",
       "      <th>monthly_debt</th>\n",
       "      <th>years_of_credit_history</th>\n",
       "      <th>months_since_last_delinquent</th>\n",
       "      <th>number_of_open_accounts</th>\n",
       "      <th>number_of_credit_problems</th>\n",
       "      <th>current_credit_balance</th>\n",
       "      <th>maximum_open_credit</th>\n",
       "      <th>bankruptcies</th>\n",
       "      <th>tax_liens</th>\n",
       "    </tr>\n",
       "  </thead>\n",
       "  <tbody>\n",
       "    <tr>\n",
       "      <th>58914</th>\n",
       "      <td>f02dc06f-30f4-4b1d-ba58-156c2f3bd33d</td>\n",
       "      <td>a5c22bae-59c4-4a6c-8f04-628a4dadef57</td>\n",
       "      <td>Loan Given</td>\n",
       "      <td>34419</td>\n",
       "      <td>Long Term</td>\n",
       "      <td>729.0</td>\n",
       "      <td>&lt; 1 year</td>\n",
       "      <td>Home Mortgage</td>\n",
       "      <td>172095.0</td>\n",
       "      <td>Debt Consolidation</td>\n",
       "      <td>2007.78</td>\n",
       "      <td>19.8</td>\n",
       "      <td>NaN</td>\n",
       "      <td>16</td>\n",
       "      <td>0</td>\n",
       "      <td>139976</td>\n",
       "      <td>69988086.0</td>\n",
       "      <td>0.0</td>\n",
       "      <td>0.0</td>\n",
       "    </tr>\n",
       "  </tbody>\n",
       "</table>\n",
       "</div>"
      ]
     },
     "execution_count": 46,
     "metadata": {},
     "output_type": "execute_result"
    }
   ],
   "execution_count": 46
  },
  {
   "cell_type": "code",
   "id": "cadf1d07",
   "metadata": {
    "ExecuteTime": {
     "end_time": "2025-04-11T04:49:35.455350Z",
     "start_time": "2025-04-11T04:49:35.413013Z"
    }
   },
   "source": [
    "df.maximum_open_credit.describe()"
   ],
   "outputs": [
    {
     "data": {
      "text/plain": [
       "count    1.111030e+05\n",
       "mean     3.438660e+04\n",
       "std      3.643059e+05\n",
       "min      0.000000e+00\n",
       "25%      1.241700e+04\n",
       "50%      2.124300e+04\n",
       "75%      3.558400e+04\n",
       "max      6.998809e+07\n",
       "Name: maximum_open_credit, dtype: float64"
      ]
     },
     "execution_count": 47,
     "metadata": {},
     "output_type": "execute_result"
    }
   ],
   "execution_count": 47
  },
  {
   "cell_type": "code",
   "id": "b3329ee6",
   "metadata": {
    "ExecuteTime": {
     "end_time": "2025-04-11T04:49:35.645427Z",
     "start_time": "2025-04-11T04:49:35.612336Z"
    }
   },
   "source": [
    "df['maximum_open_credit'].quantile([0.5,0.75,0.95,0.99,1])"
   ],
   "outputs": [
    {
     "data": {
      "text/plain": [
       "0.50       21243.00\n",
       "0.75       35584.00\n",
       "0.95       74538.70\n",
       "0.99      164623.96\n",
       "1.00    69988086.00\n",
       "Name: maximum_open_credit, dtype: float64"
      ]
     },
     "execution_count": 48,
     "metadata": {},
     "output_type": "execute_result"
    }
   ],
   "execution_count": 48
  },
  {
   "cell_type": "markdown",
   "id": "832f3ca2",
   "metadata": {},
   "source": [
    "There is only one extreme value, and the gap between the 99th quantile and the 100th quantile is huge. I would assume that this is an error in inputting the data. I will change the highest number to NaN for now."
   ]
  },
  {
   "cell_type": "code",
   "id": "7ce89273",
   "metadata": {
    "ExecuteTime": {
     "end_time": "2025-04-11T04:49:36.423962Z",
     "start_time": "2025-04-11T04:49:36.036616Z"
    }
   },
   "source": [
    "create_histogram(df, 'bankruptcies')"
   ],
   "outputs": [
    {
     "data": {
      "text/plain": [
       "<Figure size 640x480 with 1 Axes>"
      ],
      "image/png": "[encoded data removed]"
     },
     "metadata": {},
     "output_type": "display_data"
    }
   ],
   "execution_count": 49
  },
  {
   "cell_type": "code",
   "id": "d1c13c82",
   "metadata": {
    "ExecuteTime": {
     "end_time": "2025-04-11T04:49:36.907234Z",
     "start_time": "2025-04-11T04:49:36.880880Z"
    }
   },
   "source": [
    "df.bankruptcies.value_counts()"
   ],
   "outputs": [
    {
     "data": {
      "text/plain": [
       "bankruptcies\n",
       "0.0    98648\n",
       "1.0    11613\n",
       "2.0      468\n",
       "3.0      110\n",
       "4.0       27\n",
       "5.0        8\n",
       "6.0        2\n",
       "7.0        1\n",
       "Name: count, dtype: int64"
      ]
     },
     "execution_count": 50,
     "metadata": {},
     "output_type": "execute_result"
    }
   ],
   "execution_count": 50
  },
  {
   "cell_type": "markdown",
   "id": "8a0b9da1",
   "metadata": {},
   "source": [
    "The number of people who declared bankruptcies for more than 1 times is extremely low, which is logical. Most haven't declared bankruptcies or at most 1 time.\n",
    "\n",
    "Next, onto tax liens. A tax lien is some sort of a legal claim by government to people who have tax debt."
   ]
  },
  {
   "cell_type": "code",
   "id": "4f03ad03",
   "metadata": {
    "ExecuteTime": {
     "end_time": "2025-04-11T04:49:37.452147Z",
     "start_time": "2025-04-11T04:49:37.131182Z"
    }
   },
   "source": [
    "create_histogram(df, 'tax_liens')"
   ],
   "outputs": [
    {
     "data": {
      "text/plain": [
       "<Figure size 640x480 with 1 Axes>"
      ],
      "image/png": "[encoded data removed]"
     },
     "metadata": {},
     "output_type": "display_data"
    }
   ],
   "execution_count": 51
  },
  {
   "cell_type": "markdown",
   "id": "c2a61770",
   "metadata": {},
   "source": [
    "Again, most people has 0-1 tax liens indicating that they don't have tax debt.\n",
    "\n",
    "The single variable analysis is finished. The takeaways from the EDA is:\n",
    "\n",
    "1. Examining duplicated data\n",
    "2. Dealing with the extreme values in the current_loan_amount column\n",
    "3. Fix the values in the credit_score which are more than 850\n",
    "4. Map the values in the years_in_current_job column to numbers, but change the type into categorical\n",
    "5. Change the value HaveMortage to Home Mortgage in the home_ownership column\n",
    "6. Convert all the string values in all of the column into snake case, all lowercase.\n",
    "7. Change the extreme value in the maximum_open_credit column into NaN value, and impute it later\n",
    "8. Impute the missing values in the rest of the columns\n",
    "\n",
    "I will save the data to a csv file first to avoid out of memory problem. In the next notebook, I will continue with the relationship between the predictors and target (loan_status) variable."
   ]
  },
  {
   "metadata": {
    "ExecuteTime": {
     "end_time": "2025-04-11T04:55:59.186638Z",
     "start_time": "2025-04-11T04:55:57.216441Z"
    }
   },
   "cell_type": "code",
   "source": "df.to_csv(r'D:\\LoanLens\\data\\after_single_var_eda.csv', index=False)\n",
   "id": "ba9b5f965b07f891",
   "outputs": [],
   "execution_count": 56
  }
 ],
 "metadata": {
  "kernelspec": {
   "display_name": "ll",
   "language": "python",
   "name": "python3"
  },
  "language_info": {
   "codemirror_mode": {
    "name": "ipython",
    "version": 3
   },
   "file_extension": ".py",
   "mimetype": "text/x-python",
   "name": "python",
   "nbconvert_exporter": "python",
   "pygments_lexer": "ipython3",
   "version": "3.8.20"
  }
 },
 "nbformat": 4,
 "nbformat_minor": 5
}
